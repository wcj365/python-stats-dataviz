{
  "nbformat": 4,
  "nbformat_minor": 0,
  "metadata": {
    "colab": {
      "provenance": [],
      "include_colab_link": true
    },
    "kernelspec": {
      "name": "python3",
      "display_name": "Python 3"
    },
    "language_info": {
      "name": "python"
    }
  },
  "cells": [
    {
      "cell_type": "markdown",
      "metadata": {
        "id": "view-in-github",
        "colab_type": "text"
      },
      "source": [
        "<a href=\"https://colab.research.google.com/github/wcj365/python-stats-dataviz/blob/master/fall2024/Assignment_03.ipynb\" target=\"_parent\"><img src=\"https://colab.research.google.com/assets/colab-badge.svg\" alt=\"Open In Colab\"/></a>"
      ]
    },
    {
      "cell_type": "markdown",
      "source": [
        "# UMBC Data 690 Fall 2024\n",
        "\n",
        "## Session 02"
      ],
      "metadata": {
        "id": "MLwxpbb8Y4-U"
      }
    },
    {
      "cell_type": "code",
      "execution_count": null,
      "metadata": {
        "id": "jwAKrvxWYuf7"
      },
      "outputs": [],
      "source": [
        "import pandas as pd\n",
        "import plotly.express as px\n",
        "\n",
        "pd.set_option(\"display.max_colwidth\", None)\n",
        "\n",
        "DATA_URL = \"https://raw.githubusercontent.com/wcj365/python-stats-dataviz/master/fall2024/survey/UMBC%20DATA%20690%20FALL%202024%20DR%20WANG%20Student%20Survey.csv\""
      ]
    },
    {
      "cell_type": "markdown",
      "source": [
        "## Step 1 - Load the Survey Response Data and Explore"
      ],
      "metadata": {
        "id": "N6ZjSdPKc0cv"
      }
    },
    {
      "cell_type": "code",
      "source": [
        "df = pd.read_csv(DATA_URL)\n",
        "\n",
        "df.shape"
      ],
      "metadata": {
        "id": "BeLNhTIHZ0UE"
      },
      "execution_count": null,
      "outputs": []
    },
    {
      "cell_type": "code",
      "source": [
        "df.head()"
      ],
      "metadata": {
        "colab": {
          "base_uri": "https://localhost:8080/",
          "height": 969
        },
        "id": "fPmMSIBOaCI0",
        "outputId": "ff6cb9fa-ce7b-4b10-9aa5-509e88ea8075"
      },
      "execution_count": 46,
      "outputs": [
        {
          "output_type": "execute_result",
          "data": {
            "text/plain": [
              "                    Timestamp           1. My primary educational background  \\\n",
              "0   2024/08/18 8:33:50 PM AST  STEM (Science, Technology, Engineering, Math)   \n",
              "1   2024/08/18 8:33:54 PM AST  STEM (Science, Technology, Engineering, Math)   \n",
              "2  2024/08/19 10:33:47 AM AST  STEM (Science, Technology, Engineering, Math)   \n",
              "3  2024/08/19 12:38:37 PM AST  STEM (Science, Technology, Engineering, Math)   \n",
              "4   2024/08/22 3:05:13 AM AST  STEM (Science, Technology, Engineering, Math)   \n",
              "\n",
              "        2. My primary job function  \\\n",
              "0                Full-time Student   \n",
              "1                Full-time Student   \n",
              "2                Full-time Student   \n",
              "3  Technology/engineering-oriented   \n",
              "4                Full-time Student   \n",
              "\n",
              "  3. My level of computer programing knowledge  \\\n",
              "0                                 Intermediate   \n",
              "1                                 Intermediate   \n",
              "2                                 Intermediate   \n",
              "3                                 Intermediate   \n",
              "4                                 Intermediate   \n",
              "\n",
              "  4. My level of Python progrmming knowledge  \\\n",
              "0                               Intermediate   \n",
              "1                               Intermediate   \n",
              "2                               Intermediate   \n",
              "3                               Intermediate   \n",
              "4                               Intermediate   \n",
              "\n",
              "  5. My level of Statistics knowledge 6. My Familarity with GitHub  \\\n",
              "0                        Intermediate    I use GitHub occasionally   \n",
              "1                        Intermediate    I use GitHub occasionally   \n",
              "2                        Intermediate       I use GitHub regularly   \n",
              "3                        Intermediate    I use GitHub occasionally   \n",
              "4                            Beginner       I use GitHub regularly   \n",
              "\n",
              "  7. My gender 8. My Birth Year  \\\n",
              "0         Male             2000   \n",
              "1         Male             2002   \n",
              "2         Male             1997   \n",
              "3       Female        7/21/1999   \n",
              "4         Male             2000   \n",
              "\n",
              "                                      9. What do you enjoy doing in your leisure time?  \\\n",
              "0                                                    Use to do some personal projects    \n",
              "1                                                                      Playing Cricket   \n",
              "2  Doing courses and leveling up my knowledge in the field of clouds and other domains   \n",
              "3                                                                       Surfing google   \n",
              "4                                                               I like to study movies   \n",
              "\n",
              "                                                                                                                        10. What do you expect to get out of this course?  \\\n",
              "0                                                                                                                                      Data analysis with proper visuals    \n",
              "1       To get good knowledge about statistics , data visualization and able to do some Real time projects in this area which would help for my future job opportunities.   \n",
              "2                     I would expect to learn statistics concepts with real-time scenarios and also to be perfect in any visualization tool that tells the perfect story.   \n",
              "3  Get knowledge on statistics, perform data analysis using statistical measures, learn advanced level interactive visualization using power BI, Gain analytical thinking   \n",
              "4                                                                                                             I want to be good enough in Python by the end of the course   \n",
              "\n",
              "                                      11. What is your long-term career goal?  \\\n",
              "0                                               I want to become a developer    \n",
              "1                                               Try to start my own business.   \n",
              "2                      My aim is to become a Data Engineer and  Data Analyst.   \n",
              "3                                    Be well suited for Data Science position   \n",
              "4  I would like see myself solving daily problems around us using technology    \n",
              "\n",
              "                                                  12. Other courses taking this semester  \n",
              "0           HIT 664 : HEALTH IT LAW AND ETHICS , HEALTH 723 : PUBLIC HEALTH INFORMATICS   \n",
              "1             HIT 664 - Health IT Law And Ethics  ; HIT 723 - Public Health Informatics.  \n",
              "2                                                                  Deep Learning and LLM  \n",
              "3                   This is my last semester and is the only course I have for this term  \n",
              "4  ENMG 659 Strategic Management and ENMG 668 Project and Systems Engineering Management  "
            ],
            "text/html": [
              "\n",
              "  <div id=\"df-43cee136-ab3b-4672-b460-0aebf56f456b\" class=\"colab-df-container\">\n",
              "    <div>\n",
              "<style scoped>\n",
              "    .dataframe tbody tr th:only-of-type {\n",
              "        vertical-align: middle;\n",
              "    }\n",
              "\n",
              "    .dataframe tbody tr th {\n",
              "        vertical-align: top;\n",
              "    }\n",
              "\n",
              "    .dataframe thead th {\n",
              "        text-align: right;\n",
              "    }\n",
              "</style>\n",
              "<table border=\"1\" class=\"dataframe\">\n",
              "  <thead>\n",
              "    <tr style=\"text-align: right;\">\n",
              "      <th></th>\n",
              "      <th>Timestamp</th>\n",
              "      <th>1. My primary educational background</th>\n",
              "      <th>2. My primary job function</th>\n",
              "      <th>3. My level of computer programing knowledge</th>\n",
              "      <th>4. My level of Python progrmming knowledge</th>\n",
              "      <th>5. My level of Statistics knowledge</th>\n",
              "      <th>6. My Familarity with GitHub</th>\n",
              "      <th>7. My gender</th>\n",
              "      <th>8. My Birth Year</th>\n",
              "      <th>9. What do you enjoy doing in your leisure time?</th>\n",
              "      <th>10. What do you expect to get out of this course?</th>\n",
              "      <th>11. What is your long-term career goal?</th>\n",
              "      <th>12. Other courses taking this semester</th>\n",
              "    </tr>\n",
              "  </thead>\n",
              "  <tbody>\n",
              "    <tr>\n",
              "      <th>0</th>\n",
              "      <td>2024/08/18 8:33:50 PM AST</td>\n",
              "      <td>STEM (Science, Technology, Engineering, Math)</td>\n",
              "      <td>Full-time Student</td>\n",
              "      <td>Intermediate</td>\n",
              "      <td>Intermediate</td>\n",
              "      <td>Intermediate</td>\n",
              "      <td>I use GitHub occasionally</td>\n",
              "      <td>Male</td>\n",
              "      <td>2000</td>\n",
              "      <td>Use to do some personal projects</td>\n",
              "      <td>Data analysis with proper visuals</td>\n",
              "      <td>I want to become a developer</td>\n",
              "      <td>HIT 664 : HEALTH IT LAW AND ETHICS , HEALTH 723 : PUBLIC HEALTH INFORMATICS</td>\n",
              "    </tr>\n",
              "    <tr>\n",
              "      <th>1</th>\n",
              "      <td>2024/08/18 8:33:54 PM AST</td>\n",
              "      <td>STEM (Science, Technology, Engineering, Math)</td>\n",
              "      <td>Full-time Student</td>\n",
              "      <td>Intermediate</td>\n",
              "      <td>Intermediate</td>\n",
              "      <td>Intermediate</td>\n",
              "      <td>I use GitHub occasionally</td>\n",
              "      <td>Male</td>\n",
              "      <td>2002</td>\n",
              "      <td>Playing Cricket</td>\n",
              "      <td>To get good knowledge about statistics , data visualization and able to do some Real time projects in this area which would help for my future job opportunities.</td>\n",
              "      <td>Try to start my own business.</td>\n",
              "      <td>HIT 664 - Health IT Law And Ethics  ; HIT 723 - Public Health Informatics.</td>\n",
              "    </tr>\n",
              "    <tr>\n",
              "      <th>2</th>\n",
              "      <td>2024/08/19 10:33:47 AM AST</td>\n",
              "      <td>STEM (Science, Technology, Engineering, Math)</td>\n",
              "      <td>Full-time Student</td>\n",
              "      <td>Intermediate</td>\n",
              "      <td>Intermediate</td>\n",
              "      <td>Intermediate</td>\n",
              "      <td>I use GitHub regularly</td>\n",
              "      <td>Male</td>\n",
              "      <td>1997</td>\n",
              "      <td>Doing courses and leveling up my knowledge in the field of clouds and other domains</td>\n",
              "      <td>I would expect to learn statistics concepts with real-time scenarios and also to be perfect in any visualization tool that tells the perfect story.</td>\n",
              "      <td>My aim is to become a Data Engineer and  Data Analyst.</td>\n",
              "      <td>Deep Learning and LLM</td>\n",
              "    </tr>\n",
              "    <tr>\n",
              "      <th>3</th>\n",
              "      <td>2024/08/19 12:38:37 PM AST</td>\n",
              "      <td>STEM (Science, Technology, Engineering, Math)</td>\n",
              "      <td>Technology/engineering-oriented</td>\n",
              "      <td>Intermediate</td>\n",
              "      <td>Intermediate</td>\n",
              "      <td>Intermediate</td>\n",
              "      <td>I use GitHub occasionally</td>\n",
              "      <td>Female</td>\n",
              "      <td>7/21/1999</td>\n",
              "      <td>Surfing google</td>\n",
              "      <td>Get knowledge on statistics, perform data analysis using statistical measures, learn advanced level interactive visualization using power BI, Gain analytical thinking</td>\n",
              "      <td>Be well suited for Data Science position</td>\n",
              "      <td>This is my last semester and is the only course I have for this term</td>\n",
              "    </tr>\n",
              "    <tr>\n",
              "      <th>4</th>\n",
              "      <td>2024/08/22 3:05:13 AM AST</td>\n",
              "      <td>STEM (Science, Technology, Engineering, Math)</td>\n",
              "      <td>Full-time Student</td>\n",
              "      <td>Intermediate</td>\n",
              "      <td>Intermediate</td>\n",
              "      <td>Beginner</td>\n",
              "      <td>I use GitHub regularly</td>\n",
              "      <td>Male</td>\n",
              "      <td>2000</td>\n",
              "      <td>I like to study movies</td>\n",
              "      <td>I want to be good enough in Python by the end of the course</td>\n",
              "      <td>I would like see myself solving daily problems around us using technology</td>\n",
              "      <td>ENMG 659 Strategic Management and ENMG 668 Project and Systems Engineering Management</td>\n",
              "    </tr>\n",
              "  </tbody>\n",
              "</table>\n",
              "</div>\n",
              "    <div class=\"colab-df-buttons\">\n",
              "\n",
              "  <div class=\"colab-df-container\">\n",
              "    <button class=\"colab-df-convert\" onclick=\"convertToInteractive('df-43cee136-ab3b-4672-b460-0aebf56f456b')\"\n",
              "            title=\"Convert this dataframe to an interactive table.\"\n",
              "            style=\"display:none;\">\n",
              "\n",
              "  <svg xmlns=\"http://www.w3.org/2000/svg\" height=\"24px\" viewBox=\"0 -960 960 960\">\n",
              "    <path d=\"M120-120v-720h720v720H120Zm60-500h600v-160H180v160Zm220 220h160v-160H400v160Zm0 220h160v-160H400v160ZM180-400h160v-160H180v160Zm440 0h160v-160H620v160ZM180-180h160v-160H180v160Zm440 0h160v-160H620v160Z\"/>\n",
              "  </svg>\n",
              "    </button>\n",
              "\n",
              "  <style>\n",
              "    .colab-df-container {\n",
              "      display:flex;\n",
              "      gap: 12px;\n",
              "    }\n",
              "\n",
              "    .colab-df-convert {\n",
              "      background-color: #E8F0FE;\n",
              "      border: none;\n",
              "      border-radius: 50%;\n",
              "      cursor: pointer;\n",
              "      display: none;\n",
              "      fill: #1967D2;\n",
              "      height: 32px;\n",
              "      padding: 0 0 0 0;\n",
              "      width: 32px;\n",
              "    }\n",
              "\n",
              "    .colab-df-convert:hover {\n",
              "      background-color: #E2EBFA;\n",
              "      box-shadow: 0px 1px 2px rgba(60, 64, 67, 0.3), 0px 1px 3px 1px rgba(60, 64, 67, 0.15);\n",
              "      fill: #174EA6;\n",
              "    }\n",
              "\n",
              "    .colab-df-buttons div {\n",
              "      margin-bottom: 4px;\n",
              "    }\n",
              "\n",
              "    [theme=dark] .colab-df-convert {\n",
              "      background-color: #3B4455;\n",
              "      fill: #D2E3FC;\n",
              "    }\n",
              "\n",
              "    [theme=dark] .colab-df-convert:hover {\n",
              "      background-color: #434B5C;\n",
              "      box-shadow: 0px 1px 3px 1px rgba(0, 0, 0, 0.15);\n",
              "      filter: drop-shadow(0px 1px 2px rgba(0, 0, 0, 0.3));\n",
              "      fill: #FFFFFF;\n",
              "    }\n",
              "  </style>\n",
              "\n",
              "    <script>\n",
              "      const buttonEl =\n",
              "        document.querySelector('#df-43cee136-ab3b-4672-b460-0aebf56f456b button.colab-df-convert');\n",
              "      buttonEl.style.display =\n",
              "        google.colab.kernel.accessAllowed ? 'block' : 'none';\n",
              "\n",
              "      async function convertToInteractive(key) {\n",
              "        const element = document.querySelector('#df-43cee136-ab3b-4672-b460-0aebf56f456b');\n",
              "        const dataTable =\n",
              "          await google.colab.kernel.invokeFunction('convertToInteractive',\n",
              "                                                    [key], {});\n",
              "        if (!dataTable) return;\n",
              "\n",
              "        const docLinkHtml = 'Like what you see? Visit the ' +\n",
              "          '<a target=\"_blank\" href=https://colab.research.google.com/notebooks/data_table.ipynb>data table notebook</a>'\n",
              "          + ' to learn more about interactive tables.';\n",
              "        element.innerHTML = '';\n",
              "        dataTable['output_type'] = 'display_data';\n",
              "        await google.colab.output.renderOutput(dataTable, element);\n",
              "        const docLink = document.createElement('div');\n",
              "        docLink.innerHTML = docLinkHtml;\n",
              "        element.appendChild(docLink);\n",
              "      }\n",
              "    </script>\n",
              "  </div>\n",
              "\n",
              "\n",
              "<div id=\"df-aa9ba8b1-7963-4e2e-b862-e76b8f6a0f91\">\n",
              "  <button class=\"colab-df-quickchart\" onclick=\"quickchart('df-aa9ba8b1-7963-4e2e-b862-e76b8f6a0f91')\"\n",
              "            title=\"Suggest charts\"\n",
              "            style=\"display:none;\">\n",
              "\n",
              "<svg xmlns=\"http://www.w3.org/2000/svg\" height=\"24px\"viewBox=\"0 0 24 24\"\n",
              "     width=\"24px\">\n",
              "    <g>\n",
              "        <path d=\"M19 3H5c-1.1 0-2 .9-2 2v14c0 1.1.9 2 2 2h14c1.1 0 2-.9 2-2V5c0-1.1-.9-2-2-2zM9 17H7v-7h2v7zm4 0h-2V7h2v10zm4 0h-2v-4h2v4z\"/>\n",
              "    </g>\n",
              "</svg>\n",
              "  </button>\n",
              "\n",
              "<style>\n",
              "  .colab-df-quickchart {\n",
              "      --bg-color: #E8F0FE;\n",
              "      --fill-color: #1967D2;\n",
              "      --hover-bg-color: #E2EBFA;\n",
              "      --hover-fill-color: #174EA6;\n",
              "      --disabled-fill-color: #AAA;\n",
              "      --disabled-bg-color: #DDD;\n",
              "  }\n",
              "\n",
              "  [theme=dark] .colab-df-quickchart {\n",
              "      --bg-color: #3B4455;\n",
              "      --fill-color: #D2E3FC;\n",
              "      --hover-bg-color: #434B5C;\n",
              "      --hover-fill-color: #FFFFFF;\n",
              "      --disabled-bg-color: #3B4455;\n",
              "      --disabled-fill-color: #666;\n",
              "  }\n",
              "\n",
              "  .colab-df-quickchart {\n",
              "    background-color: var(--bg-color);\n",
              "    border: none;\n",
              "    border-radius: 50%;\n",
              "    cursor: pointer;\n",
              "    display: none;\n",
              "    fill: var(--fill-color);\n",
              "    height: 32px;\n",
              "    padding: 0;\n",
              "    width: 32px;\n",
              "  }\n",
              "\n",
              "  .colab-df-quickchart:hover {\n",
              "    background-color: var(--hover-bg-color);\n",
              "    box-shadow: 0 1px 2px rgba(60, 64, 67, 0.3), 0 1px 3px 1px rgba(60, 64, 67, 0.15);\n",
              "    fill: var(--button-hover-fill-color);\n",
              "  }\n",
              "\n",
              "  .colab-df-quickchart-complete:disabled,\n",
              "  .colab-df-quickchart-complete:disabled:hover {\n",
              "    background-color: var(--disabled-bg-color);\n",
              "    fill: var(--disabled-fill-color);\n",
              "    box-shadow: none;\n",
              "  }\n",
              "\n",
              "  .colab-df-spinner {\n",
              "    border: 2px solid var(--fill-color);\n",
              "    border-color: transparent;\n",
              "    border-bottom-color: var(--fill-color);\n",
              "    animation:\n",
              "      spin 1s steps(1) infinite;\n",
              "  }\n",
              "\n",
              "  @keyframes spin {\n",
              "    0% {\n",
              "      border-color: transparent;\n",
              "      border-bottom-color: var(--fill-color);\n",
              "      border-left-color: var(--fill-color);\n",
              "    }\n",
              "    20% {\n",
              "      border-color: transparent;\n",
              "      border-left-color: var(--fill-color);\n",
              "      border-top-color: var(--fill-color);\n",
              "    }\n",
              "    30% {\n",
              "      border-color: transparent;\n",
              "      border-left-color: var(--fill-color);\n",
              "      border-top-color: var(--fill-color);\n",
              "      border-right-color: var(--fill-color);\n",
              "    }\n",
              "    40% {\n",
              "      border-color: transparent;\n",
              "      border-right-color: var(--fill-color);\n",
              "      border-top-color: var(--fill-color);\n",
              "    }\n",
              "    60% {\n",
              "      border-color: transparent;\n",
              "      border-right-color: var(--fill-color);\n",
              "    }\n",
              "    80% {\n",
              "      border-color: transparent;\n",
              "      border-right-color: var(--fill-color);\n",
              "      border-bottom-color: var(--fill-color);\n",
              "    }\n",
              "    90% {\n",
              "      border-color: transparent;\n",
              "      border-bottom-color: var(--fill-color);\n",
              "    }\n",
              "  }\n",
              "</style>\n",
              "\n",
              "  <script>\n",
              "    async function quickchart(key) {\n",
              "      const quickchartButtonEl =\n",
              "        document.querySelector('#' + key + ' button');\n",
              "      quickchartButtonEl.disabled = true;  // To prevent multiple clicks.\n",
              "      quickchartButtonEl.classList.add('colab-df-spinner');\n",
              "      try {\n",
              "        const charts = await google.colab.kernel.invokeFunction(\n",
              "            'suggestCharts', [key], {});\n",
              "      } catch (error) {\n",
              "        console.error('Error during call to suggestCharts:', error);\n",
              "      }\n",
              "      quickchartButtonEl.classList.remove('colab-df-spinner');\n",
              "      quickchartButtonEl.classList.add('colab-df-quickchart-complete');\n",
              "    }\n",
              "    (() => {\n",
              "      let quickchartButtonEl =\n",
              "        document.querySelector('#df-aa9ba8b1-7963-4e2e-b862-e76b8f6a0f91 button');\n",
              "      quickchartButtonEl.style.display =\n",
              "        google.colab.kernel.accessAllowed ? 'block' : 'none';\n",
              "    })();\n",
              "  </script>\n",
              "</div>\n",
              "\n",
              "    </div>\n",
              "  </div>\n"
            ],
            "application/vnd.google.colaboratory.intrinsic+json": {
              "type": "dataframe",
              "variable_name": "df",
              "summary": "{\n  \"name\": \"df\",\n  \"rows\": 21,\n  \"fields\": [\n    {\n      \"column\": \"Timestamp\",\n      \"properties\": {\n        \"dtype\": \"object\",\n        \"num_unique_values\": 21,\n        \"samples\": [\n          \"2024/08/18 8:33:50 PM AST\",\n          \"2024/08/28 6:56:33 PM AST\",\n          \"2024/08/28 6:49:28 PM AST\"\n        ],\n        \"semantic_type\": \"\",\n        \"description\": \"\"\n      }\n    },\n    {\n      \"column\": \"1. My primary educational background\",\n      \"properties\": {\n        \"dtype\": \"category\",\n        \"num_unique_values\": 3,\n        \"samples\": [\n          \"STEM (Science, Technology, Engineering, Math)\",\n          \"Social Science (History, Philosophy, Education, etc. )\",\n          \"Criminal Justice with some Software Engineering courses\"\n        ],\n        \"semantic_type\": \"\",\n        \"description\": \"\"\n      }\n    },\n    {\n      \"column\": \"2. My primary job function\",\n      \"properties\": {\n        \"dtype\": \"category\",\n        \"num_unique_values\": 3,\n        \"samples\": [\n          \"Full-time Student\",\n          \"Technology/engineering-oriented\",\n          \"Business/service-oriented\"\n        ],\n        \"semantic_type\": \"\",\n        \"description\": \"\"\n      }\n    },\n    {\n      \"column\": \"3. My level of computer programing knowledge\",\n      \"properties\": {\n        \"dtype\": \"category\",\n        \"num_unique_values\": 3,\n        \"samples\": [\n          \"Intermediate\",\n          \"Beginner\",\n          \"Expert\"\n        ],\n        \"semantic_type\": \"\",\n        \"description\": \"\"\n      }\n    },\n    {\n      \"column\": \"4. My level of Python progrmming knowledge\",\n      \"properties\": {\n        \"dtype\": \"category\",\n        \"num_unique_values\": 4,\n        \"samples\": [\n          \"No exposure\",\n          \"Beginner\",\n          \"Intermediate\"\n        ],\n        \"semantic_type\": \"\",\n        \"description\": \"\"\n      }\n    },\n    {\n      \"column\": \"5. My level of Statistics knowledge\",\n      \"properties\": {\n        \"dtype\": \"category\",\n        \"num_unique_values\": 2,\n        \"samples\": [\n          \"Beginner\",\n          \"Intermediate\"\n        ],\n        \"semantic_type\": \"\",\n        \"description\": \"\"\n      }\n    },\n    {\n      \"column\": \"6. My Familarity with GitHub\",\n      \"properties\": {\n        \"dtype\": \"category\",\n        \"num_unique_values\": 3,\n        \"samples\": [\n          \"I use GitHub occasionally\",\n          \"I use GitHub regularly\"\n        ],\n        \"semantic_type\": \"\",\n        \"description\": \"\"\n      }\n    },\n    {\n      \"column\": \"7. My gender\",\n      \"properties\": {\n        \"dtype\": \"category\",\n        \"num_unique_values\": 2,\n        \"samples\": [\n          \"Female\",\n          \"Male\"\n        ],\n        \"semantic_type\": \"\",\n        \"description\": \"\"\n      }\n    },\n    {\n      \"column\": \"8. My Birth Year\",\n      \"properties\": {\n        \"dtype\": \"string\",\n        \"num_unique_values\": 12,\n        \"samples\": [\n          \"1992\",\n          \"3/1/2001\"\n        ],\n        \"semantic_type\": \"\",\n        \"description\": \"\"\n      }\n    },\n    {\n      \"column\": \"9. What do you enjoy doing in your leisure time?\",\n      \"properties\": {\n        \"dtype\": \"string\",\n        \"num_unique_values\": 21,\n        \"samples\": [\n          \"Use to do some personal projects \",\n          \"Weightlifting\"\n        ],\n        \"semantic_type\": \"\",\n        \"description\": \"\"\n      }\n    },\n    {\n      \"column\": \"10. What do you expect to get out of this course?\",\n      \"properties\": {\n        \"dtype\": \"string\",\n        \"num_unique_values\": 21,\n        \"samples\": [\n          \"Data analysis with proper visuals \",\n          \"Strong foundation in data analytics with Python, \\\"brushing up\\\" on statistics\"\n        ],\n        \"semantic_type\": \"\",\n        \"description\": \"\"\n      }\n    },\n    {\n      \"column\": \"11. What is your long-term career goal?\",\n      \"properties\": {\n        \"dtype\": \"string\",\n        \"num_unique_values\": 21,\n        \"samples\": [\n          \"I want to become a developer \",\n          \"graduation, applying studies to cybersecurity in the military, and eventually serving as a data scientist for small businesses\"\n        ],\n        \"semantic_type\": \"\",\n        \"description\": \"\"\n      }\n    },\n    {\n      \"column\": \"12. Other courses taking this semester\",\n      \"properties\": {\n        \"dtype\": \"string\",\n        \"num_unique_values\": 18,\n        \"samples\": [\n          \"HIT 664 : HEALTH IT LAW AND ETHICS , HEALTH 723 : PUBLIC HEALTH INFORMATICS \",\n          \"HIT 664 - Health IT Law And Ethics  ; HIT 723 - Public Health Informatics.\"\n        ],\n        \"semantic_type\": \"\",\n        \"description\": \"\"\n      }\n    }\n  ]\n}"
            }
          },
          "metadata": {},
          "execution_count": 46
        }
      ]
    },
    {
      "cell_type": "code",
      "source": [
        "df.tail(2)"
      ],
      "metadata": {
        "id": "VN4FJ7-caPhi"
      },
      "execution_count": null,
      "outputs": []
    },
    {
      "cell_type": "code",
      "source": [
        "df.sample(3)"
      ],
      "metadata": {
        "id": "CGStXMx-aU0X"
      },
      "execution_count": null,
      "outputs": []
    },
    {
      "cell_type": "markdown",
      "source": [
        "## Step 2 - Explore Student Age"
      ],
      "metadata": {
        "id": "TjrQ5ssodG3y"
      }
    },
    {
      "cell_type": "code",
      "source": [
        "yob_list = list(df[\"8. My Birth Year\"])\n",
        "yob_list"
      ],
      "metadata": {
        "id": "kOGI8EVMdOAR"
      },
      "execution_count": null,
      "outputs": []
    },
    {
      "cell_type": "code",
      "source": [
        "cleansed_yob_list = []  # Empty list\n",
        "cleansed_yob_list       # the same as print(cleansed_yob)"
      ],
      "metadata": {
        "id": "ZOnS4oH4eJXX"
      },
      "execution_count": null,
      "outputs": []
    },
    {
      "cell_type": "code",
      "source": [
        "for yob in yob_list:\n",
        "    cleansed_yob = yob[-4:]\n",
        "    cleansed_yob_list.append(cleansed_yob)\n",
        "\n",
        "cleansed_yob_list"
      ],
      "metadata": {
        "id": "7MfyIRdMeiJW"
      },
      "execution_count": null,
      "outputs": []
    },
    {
      "cell_type": "code",
      "source": [
        "age_list = []\n",
        "\n",
        "for yob in cleansed_yob_list:\n",
        "    age = 2024 - int(yob)\n",
        "    age_list.append(age)\n",
        "\n",
        "age_list"
      ],
      "metadata": {
        "id": "jwvLHigogjb8"
      },
      "execution_count": null,
      "outputs": []
    },
    {
      "cell_type": "code",
      "source": [
        "min(age_list)"
      ],
      "metadata": {
        "id": "s_1SOG31lxxO"
      },
      "execution_count": null,
      "outputs": []
    },
    {
      "cell_type": "code",
      "source": [
        "max(age_list)"
      ],
      "metadata": {
        "id": "yOZVnLvlmPj6"
      },
      "execution_count": null,
      "outputs": []
    },
    {
      "cell_type": "code",
      "source": [
        "total_age = 0\n",
        "\n",
        "for age in age_list:\n",
        "    total_age = total_age + age\n",
        "\n",
        "total_age"
      ],
      "metadata": {
        "id": "2jcN-JPKnX4W"
      },
      "execution_count": null,
      "outputs": []
    },
    {
      "cell_type": "code",
      "source": [
        "average = total_age / len(age_list)\n",
        "\n",
        "round(average)"
      ],
      "metadata": {
        "id": "g_mZ6XoIn6ZV"
      },
      "execution_count": null,
      "outputs": []
    },
    {
      "cell_type": "code",
      "source": [
        "total_age = 0\n",
        "\n",
        "for age in age_list:\n",
        "    if age >= 35 or age <= 22:\n",
        "        print(\"Age\", age, \"is skipped\")\n",
        "    else:\n",
        "       total_age = total_age + age\n",
        "\n",
        "print(\"Total age is\", total_age)\n",
        "\n",
        "average = round(total_age / len(age_list))\n",
        "\n",
        "print(\"Average is\", average)"
      ],
      "metadata": {
        "id": "aCWjVflFozdN"
      },
      "execution_count": null,
      "outputs": []
    },
    {
      "cell_type": "code",
      "source": [
        "total_age = 0\n",
        "\n",
        "for age in age_list:\n",
        "    if age >= 35 or age <= 22:\n",
        "        print(\"Age\", age, \"is skipped\")\n",
        "#        continue\n",
        "\n",
        "    total_age = total_age + age   # the age out of range was not skipped without the \"continue\"\n",
        "\n",
        "print(\"Total age is\", total_age)\n",
        "\n",
        "average = round(total_age / len(age_list))\n",
        "\n",
        "print(\"Average is\", average)"
      ],
      "metadata": {
        "id": "k9Gym6BspNbT"
      },
      "execution_count": null,
      "outputs": []
    },
    {
      "cell_type": "markdown",
      "source": [
        "## Step 3 - Explore Educational Background\n",
        "\n",
        "Compute the distribution of student edu background\n"
      ],
      "metadata": {
        "id": "_MdrdfqErhCn"
      }
    },
    {
      "cell_type": "code",
      "source": [
        "edu_list = list(df[\"1. My primary educational background\"])\n",
        "\n",
        "edu_list"
      ],
      "metadata": {
        "id": "S-HBobIHrmSX"
      },
      "execution_count": null,
      "outputs": []
    },
    {
      "cell_type": "code",
      "source": [
        "df_edu_dist = df[\"1. My primary educational background\"].value_counts()\n",
        "df_edu_dist"
      ],
      "metadata": {
        "id": "UHhuX5farpcf"
      },
      "execution_count": null,
      "outputs": []
    },
    {
      "cell_type": "code",
      "source": [
        "df_edu_dist = df_edu_dist.reset_index()\n",
        "df_edu_dist"
      ],
      "metadata": {
        "id": "G-VIRcHWtQ2q"
      },
      "execution_count": null,
      "outputs": []
    },
    {
      "cell_type": "code",
      "source": [
        "fig = px.bar(\n",
        "    df_edu_dist,\n",
        "    x=\"1. My primary educational background\",\n",
        "    y=\"count\",\n",
        "    color=\"1. My primary educational background\",\n",
        "    title=\"UMBC DATA 690 Fall 2024 Student Education Distribution\"\n",
        ")\n",
        "\n",
        "fig.show()"
      ],
      "metadata": {
        "id": "HO9CNjTQvpYU"
      },
      "execution_count": null,
      "outputs": []
    },
    {
      "cell_type": "markdown",
      "source": [
        "## Assignment 03 Part One\n",
        "\n",
        "- Remove the color legend in the above bar char\n",
        "- Add the number to the bar\n",
        "- Add text annotation for \"Data source\" and \"Graph source\"\n",
        "- Change the title for Y-axis from \"count\" to \"Number of Students\""
      ],
      "metadata": {
        "id": "OsGK68bDyDCe"
      }
    },
    {
      "cell_type": "code",
      "source": [
        "import plotly.express as px\n",
        "df_edu_dist = df[\"1. My primary educational background\"].value_counts().reset_index()\n",
        "df_edu_dist.columns = ['Educational Background', 'Count']\n",
        "\n",
        "# Create a pie chart\n",
        "fig = px.pie(df_edu_dist,\n",
        "             names='Educational Background',\n",
        "             values='Count',\n",
        "             title='Student Educational Background Distribution')\n",
        "\n",
        "fig.show()\n"
      ],
      "metadata": {
        "id": "gNXPwt-d4jMW"
      },
      "execution_count": null,
      "outputs": []
    },
    {
      "cell_type": "markdown",
      "source": [
        "## Step 4 - Explore Job Function\n",
        "\n",
        "Compute the distribution of student job function. Summary."
      ],
      "metadata": {
        "id": "69c4wVXEsTAz"
      }
    },
    {
      "cell_type": "code",
      "source": [
        "edu_list = list(df[\"2. My primary job function\"])\n",
        "\n",
        "edu_list"
      ],
      "metadata": {
        "id": "VEQbQZyusNZI"
      },
      "execution_count": null,
      "outputs": []
    },
    {
      "cell_type": "code",
      "source": [
        "df_job_dist = df[\"2. My primary job function\"].value_counts()\n",
        "df_job_dist"
      ],
      "metadata": {
        "id": "Lp57b1eqtLhw"
      },
      "execution_count": null,
      "outputs": []
    },
    {
      "cell_type": "code",
      "source": [
        "df_job_dist = df_job_dist.reset_index()\n",
        "df_job_dist"
      ],
      "metadata": {
        "id": "zQSGZxgJtvj3"
      },
      "execution_count": null,
      "outputs": []
    },
    {
      "cell_type": "markdown",
      "source": [
        "### Home work\n",
        "\n",
        "Create a Pie chart using plotly express"
      ],
      "metadata": {
        "id": "PBDrqxHVyNOe"
      }
    },
    {
      "cell_type": "code",
      "source": [
        "df_job_dist = df[\"2. My primary job function\"].value_counts().reset_index()\n",
        "df_job_dist.columns = ['Job Function', 'Count']\n",
        "fig = px.pie(df_job_dist,\n",
        "             names='Job Function',\n",
        "             values='Count',\n",
        "             title='UMBC DATA 690 Fall 2024 Student Job Function Distribution')\n",
        "\n",
        "fig.update_traces(textinfo='label+percent+value', textposition='outside')\n",
        "# Remove the legend\n",
        "fig.update_layout(showlegend=False)\n",
        "\n",
        "# Add annotations\n",
        "fig.add_annotation(\n",
        "    x=0, y=-0.1,  # Position of the annotation\n",
        "    text=\"Data source: UMBC Data609 Fall 2024 Student Survey\",  # Text of the annotation\n",
        "    showarrow=False,  # Show arrow pointing to the annotation\n",
        ")\n",
        "\n",
        "fig.add_annotation(\n",
        "    x=0, y=-0.15,  # Position of the annotation\n",
        "    text=\"Graph source: Dr. Chaojie Wang\",  # Text of the annotation\n",
        "    showarrow=False,  # Show arrow pointing to the annotation\n",
        ")\n",
        "\n",
        "fig.show()\n"
      ],
      "metadata": {
        "id": "j7a-4JLo3_IB"
      },
      "execution_count": null,
      "outputs": []
    },
    {
      "cell_type": "markdown",
      "source": [
        "## Step 5 - Bonus\n",
        "\n",
        "distribution of \"12. Other courses taking this semester\" with Bar and Pie Chart"
      ],
      "metadata": {
        "id": "GbaPBsxKtEjo"
      }
    },
    {
      "cell_type": "code",
      "source": [
        "df[\"12. Other courses taking this semester\"]"
      ],
      "metadata": {
        "id": "A93l2g6LwJ-r"
      },
      "execution_count": null,
      "outputs": []
    },
    {
      "cell_type": "code",
      "source": [
        "df[\"12. Other courses taking this semester\"].value_counts()"
      ],
      "metadata": {
        "id": "xGjGVW3gwgj1"
      },
      "execution_count": null,
      "outputs": []
    },
    {
      "cell_type": "markdown",
      "source": [
        "function to operate on srings:\n",
        "\n",
        "split() - split a string into multiple parts. specify separator.\n",
        "\n",
        "Space-delimited by default.\n",
        "\n",
        "courses.split(\",\")\n",
        "\n",
        "To take care of cases. - convert to upper() or to lower()"
      ],
      "metadata": {
        "id": "gf4L3QiqxNza"
      }
    },
    {
      "cell_type": "code",
      "source": [
        "# Sample code from MS Copilot\n",
        "\n",
        "import plotly.express as px\n",
        "\n",
        "# Sample data\n",
        "data = {\n",
        "    'Category': ['A', 'B', 'C', 'D'],\n",
        "    'Values': [10, 15, 7, 12]\n",
        "}\n",
        "\n",
        "# Create a bar chart\n",
        "fig = px.bar(data, x='Category', y='Values', title='Simple Bar Chart')\n",
        "\n",
        "# Show the chart\n",
        "fig.show()"
      ],
      "metadata": {
        "id": "TNxlPSxzy_bR"
      },
      "execution_count": null,
      "outputs": []
    },
    {
      "cell_type": "code",
      "source": [
        "import plotly.express as px\n",
        "\n",
        "# Sample data\n",
        "data = {\n",
        "    'Category': ['A', 'B', 'C', 'D'],\n",
        "    'Values': [45, 25, 15, 15]\n",
        "}\n",
        "\n",
        "# Create a pie chart\n",
        "fig = px.pie(data, names='Category', values='Values', title='Simple Pie Chart')\n",
        "\n",
        "# Show the chart\n",
        "fig.show()"
      ],
      "metadata": {
        "id": "faA2FVQPzWOS"
      },
      "execution_count": null,
      "outputs": []
    },
    {
      "cell_type": "markdown",
      "source": [
        "Let's experiment with column \"10. What do you expect to get out of this course?\" to see if we can determine most popular leisure time actvities."
      ],
      "metadata": {
        "id": "qu3SHAlfqpmT"
      }
    },
    {
      "cell_type": "code",
      "source": [
        "list_answers = df[\"9. What do you enjoy doing in your leisure time?\"].tolist()\n",
        "\n",
        "list_answers"
      ],
      "metadata": {
        "id": "P4xzLN7mq3tI",
        "outputId": "54ee2d68-7f9f-4e86-e2b3-e353853beb1e",
        "colab": {
          "base_uri": "https://localhost:8080/"
        }
      },
      "execution_count": 47,
      "outputs": [
        {
          "output_type": "execute_result",
          "data": {
            "text/plain": [
              "['Use to do some personal projects ',\n",
              " 'Playing Cricket',\n",
              " 'Doing courses and leveling up my knowledge in the field of clouds and other domains',\n",
              " 'Surfing google',\n",
              " 'I like to study movies',\n",
              " 'Reading Books, learning new skills',\n",
              " 'Reading Books, Watching movies and staying active through outdoor activities.',\n",
              " 'Fictional books and video games.',\n",
              " 'Sports, reading articles on tech, science and medicine ',\n",
              " 'Explore new places.',\n",
              " 'Refer to books',\n",
              " 'Read Books and search for articles',\n",
              " 'Crocheting',\n",
              " 'I like read books ',\n",
              " 'Reading books and listening music, playing  games',\n",
              " 'Listening music',\n",
              " 'Traveling ',\n",
              " 'Weightlifting',\n",
              " 'Gym, movies',\n",
              " 'Learning new things and upgrading myself with new skills',\n",
              " 'Sports']"
            ]
          },
          "metadata": {},
          "execution_count": 47
        }
      ]
    },
    {
      "cell_type": "markdown",
      "source": [
        "We will start with an empty dictionary like this:\n",
        "```python\n",
        "word_freq = {}\n",
        "```\n",
        "\n",
        "We hope to end up with something like this:\n",
        "```python\n",
        "word_freq{\n",
        "    \"movies\" : 3,\n",
        "    \"reading\": 10,\n",
        "    \"sports\": 3\n",
        "}\n",
        "```"
      ],
      "metadata": {
        "id": "X06EpdThrpB_"
      }
    },
    {
      "cell_type": "code",
      "source": [
        "word_freq = {}\n",
        "\n",
        "for answer in list_answers:\n",
        "    list_words = answer.split()\n",
        "    for word in list_words:\n",
        "        if word in word_freq:\n",
        "            word_freq[word] += 1\n",
        "        else:\n",
        "            word_freq[word] = 1\n",
        "\n",
        "word_freq\n"
      ],
      "metadata": {
        "id": "y8UG9Q6RrTsD",
        "outputId": "bed89609-f30a-4a70-e7eb-bc82b50de588",
        "colab": {
          "base_uri": "https://localhost:8080/"
        }
      },
      "execution_count": 48,
      "outputs": [
        {
          "output_type": "execute_result",
          "data": {
            "text/plain": [
              "{'Use': 1,\n",
              " 'to': 3,\n",
              " 'do': 1,\n",
              " 'some': 1,\n",
              " 'personal': 1,\n",
              " 'projects': 1,\n",
              " 'Playing': 1,\n",
              " 'Cricket': 1,\n",
              " 'Doing': 1,\n",
              " 'courses': 1,\n",
              " 'and': 8,\n",
              " 'leveling': 1,\n",
              " 'up': 1,\n",
              " 'my': 1,\n",
              " 'knowledge': 1,\n",
              " 'in': 1,\n",
              " 'the': 1,\n",
              " 'field': 1,\n",
              " 'of': 1,\n",
              " 'clouds': 1,\n",
              " 'other': 1,\n",
              " 'domains': 1,\n",
              " 'Surfing': 1,\n",
              " 'google': 1,\n",
              " 'I': 2,\n",
              " 'like': 2,\n",
              " 'study': 1,\n",
              " 'movies': 3,\n",
              " 'Reading': 3,\n",
              " 'Books,': 2,\n",
              " 'learning': 1,\n",
              " 'new': 4,\n",
              " 'skills': 2,\n",
              " 'Watching': 1,\n",
              " 'staying': 1,\n",
              " 'active': 1,\n",
              " 'through': 1,\n",
              " 'outdoor': 1,\n",
              " 'activities.': 1,\n",
              " 'Fictional': 1,\n",
              " 'books': 4,\n",
              " 'video': 1,\n",
              " 'games.': 1,\n",
              " 'Sports,': 1,\n",
              " 'reading': 1,\n",
              " 'articles': 2,\n",
              " 'on': 1,\n",
              " 'tech,': 1,\n",
              " 'science': 1,\n",
              " 'medicine': 1,\n",
              " 'Explore': 1,\n",
              " 'places.': 1,\n",
              " 'Refer': 1,\n",
              " 'Read': 1,\n",
              " 'Books': 1,\n",
              " 'search': 1,\n",
              " 'for': 1,\n",
              " 'Crocheting': 1,\n",
              " 'read': 1,\n",
              " 'listening': 1,\n",
              " 'music,': 1,\n",
              " 'playing': 1,\n",
              " 'games': 1,\n",
              " 'Listening': 1,\n",
              " 'music': 1,\n",
              " 'Traveling': 1,\n",
              " 'Weightlifting': 1,\n",
              " 'Gym,': 1,\n",
              " 'Learning': 1,\n",
              " 'things': 1,\n",
              " 'upgrading': 1,\n",
              " 'myself': 1,\n",
              " 'with': 1,\n",
              " 'Sports': 1}"
            ]
          },
          "metadata": {},
          "execution_count": 48
        }
      ]
    },
    {
      "cell_type": "code",
      "source": [
        "'To learn pyton and proceed in data science'.split()"
      ],
      "metadata": {
        "id": "gkuiyba4tAem",
        "outputId": "eef9b292-89ab-4d53-bf07-5157e4095f11",
        "colab": {
          "base_uri": "https://localhost:8080/"
        }
      },
      "execution_count": 44,
      "outputs": [
        {
          "output_type": "execute_result",
          "data": {
            "text/plain": [
              "['To', 'learn', 'pyton', 'and', 'proceed', 'in', 'data', 'science']"
            ]
          },
          "metadata": {},
          "execution_count": 44
        }
      ]
    },
    {
      "cell_type": "markdown",
      "source": [
        "## Assignment 03 Part 2\n",
        "\n",
        "Process column \"11. What is your long-term career goal?\" to find out the most popular career goals of the class. User Python code to parse the responses and count occurences of words, then use your naked eyes to make determination. Write your observation/analysis using Markdown."
      ],
      "metadata": {
        "id": "u1F2jsrhwF0w"
      }
    }
  ]
}