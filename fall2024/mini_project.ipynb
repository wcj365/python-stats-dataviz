{
  "nbformat": 4,
  "nbformat_minor": 0,
  "metadata": {
    "colab": {
      "provenance": [],
      "authorship_tag": "ABX9TyOxlWhLSBPDIjs9D6xlHsf3",
      "include_colab_link": true
    },
    "kernelspec": {
      "name": "python3",
      "display_name": "Python 3"
    },
    "language_info": {
      "name": "python"
    }
  },
  "cells": [
    {
      "cell_type": "markdown",
      "metadata": {
        "id": "view-in-github",
        "colab_type": "text"
      },
      "source": [
        "<a href=\"https://colab.research.google.com/github/wcj365/python-stats-dataviz/blob/master/fall2024/mini_project.ipynb\" target=\"_parent\"><img src=\"https://colab.research.google.com/assets/colab-badge.svg\" alt=\"Open In Colab\"/></a>"
      ]
    },
    {
      "cell_type": "markdown",
      "source": [
        "# Assignment 10 - Mini Project\n",
        "\n",
        "Comparing the economy and wealth of G7 countries and BRICS countries.\n",
        "\n",
        "Use http://g7brics.streamlit.app as the reference.\n",
        "\n",
        "Make sure your check your calculation, aggregation, and visualization with the reference site for correctness.\n",
        "\n",
        "For visualization, pay attention to details - color, label, information display."
      ],
      "metadata": {
        "id": "LHbgUqH9xr_N"
      }
    },
    {
      "cell_type": "markdown",
      "source": [
        "## Step 1 - Import Python libraries"
      ],
      "metadata": {
        "id": "I1yAaGjqyFdx"
      }
    },
    {
      "cell_type": "markdown",
      "source": [
        "## Step 2 - Load the input dataset\n",
        "\n",
        "Download the individaul countries data from the reference site and upload it to your GitHub folder. Load the dataset directly from your GitHub."
      ],
      "metadata": {
        "id": "nAQJfmiDyMH_"
      }
    },
    {
      "cell_type": "markdown",
      "source": [
        "## Step 3 - Explore the input dataset\n",
        "\n",
        "- Display number of rows and columns\n",
        "- Dispaly at first 5 rows, last 5 rows, and random 5 rows.\n",
        "- Display information about the dataset\n",
        "- For all numerical variables, display their summary statistics\n",
        "- For all categorical variables, display their number of categories and most frequent category\n",
        "- Find out how many countries each region has.\n",
        "- Display all countries that are Latin American & Caribbean.\n",
        "- Find out how many countries each income level has.\n",
        "- Display all countries that are of high income.\n"
      ],
      "metadata": {
        "id": "m9k8OE_VzDII"
      }
    },
    {
      "cell_type": "markdown",
      "source": [
        "## Step 4 - Categorize Each Country\n",
        "\n",
        "Create a new column \"Group\". If a country is one of the seven G7 countried, the value of \"Group\" would be \"G7\", if a country of one of the five BRICS countries, the value of \"Group\" would be \"BRICS\". Otherwise, the value of \"Group\" would be \"REST of WORLD\"."
      ],
      "metadata": {
        "id": "61gP6Yri0ufS"
      }
    },
    {
      "cell_type": "markdown",
      "source": [
        "## Step 5 - Aggregate Data\n",
        "\n",
        "Aggregate the following columns at the \"Group\" level for each year:\n",
        "\n",
        "- For GDP, using \"sum\" for aggregation.\n",
        "- For GDP Per Capita, use \"mean\" for aggregation.\n",
        "- Check your calculation with the reference site."
      ],
      "metadata": {
        "id": "9xcFvhYy1ogD"
      }
    },
    {
      "cell_type": "markdown",
      "source": [
        "## Step 6 - Calculate Percentage Share of GDP\n",
        "\n",
        "For each year, calculate the percentage share of each group's GDP. Check your calculation with the reference site."
      ],
      "metadata": {
        "id": "fG8tp1dG3BKp"
      }
    },
    {
      "cell_type": "markdown",
      "source": [
        "## Step 7 - Plot the GDP Percentage Share Over Time"
      ],
      "metadata": {
        "id": "rMaVSW5t4FeH"
      }
    },
    {
      "cell_type": "markdown",
      "source": [
        "## Step 8 - Plot the Total GDP Over Time"
      ],
      "metadata": {
        "id": "wtZPPw034cHT"
      }
    },
    {
      "cell_type": "markdown",
      "source": [
        "## Step 9 - Plot the 2023 GDP Pie Chart\n",
        "\n",
        "Each group is a slice of a pie. Make sure the following information is displayed for each slice:\n",
        "\n",
        "- Group Name\n",
        "- GDP Percentage Share\n",
        "- GDP Total"
      ],
      "metadata": {
        "id": "Kx9TTRPY4nxJ"
      }
    },
    {
      "cell_type": "markdown",
      "source": [
        "## Step 10 - Plot the 2023 GDP Pie Charts\n",
        "\n",
        "One pie chart for G7 and one pie chart for BRICK. Each country is a slice of a pie. Make sure the following information is displayed for each slice:\n",
        "\n",
        "- Country Name\n",
        "- GDP Percentage Share\n",
        "- GDP Total"
      ],
      "metadata": {
        "id": "0QNCa1la4wP9"
      }
    },
    {
      "cell_type": "markdown",
      "source": [
        "## Step 11 - Plot the 2023 GDP Sun Burst Chart\n",
        "\n",
        "Showing the hierarchy of Group and Country."
      ],
      "metadata": {
        "id": "KtGSDn8f68Bf"
      }
    },
    {
      "cell_type": "markdown",
      "source": [
        "## Step 12 - Plot the 2023 GDP Tree Map Chart\n",
        "\n",
        "Showing the hierarchy of Group and Country."
      ],
      "metadata": {
        "id": "uam6Xxl57Mmt"
      }
    },
    {
      "cell_type": "markdown",
      "source": [
        "## Step 13 - Plot the Historic Trend of GDP Per Capita"
      ],
      "metadata": {
        "id": "gOE2vx-G7eQA"
      }
    },
    {
      "cell_type": "markdown",
      "source": [
        "## Step 14 - Plot the 2023 GDP Per Capita Bar Chart\n",
        "\n",
        "Each group is a bar."
      ],
      "metadata": {
        "id": "1y9PbSwk7m60"
      }
    },
    {
      "cell_type": "markdown",
      "source": [
        "## Step 15 - Plot the 2023 GDP Per Capita Bar Chart of G7 and BRICS countries\n",
        "\n",
        "Each country is a bar. Differentiate group by color."
      ],
      "metadata": {
        "id": "XfhWUvPm70HG"
      }
    },
    {
      "cell_type": "markdown",
      "source": [
        "## Step 16 - Create a Choropleth\n",
        "\n",
        "To show G7 countries and BRICS countries and use color code to differentiate the two broups."
      ],
      "metadata": {
        "id": "CmjFNzfSIQLr"
      }
    },
    {
      "cell_type": "code",
      "execution_count": null,
      "metadata": {
        "id": "fjaqVU1hxfX5"
      },
      "outputs": [],
      "source": []
    }
  ]
}