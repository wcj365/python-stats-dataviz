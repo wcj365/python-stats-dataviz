{
  "nbformat": 4,
  "nbformat_minor": 0,
  "metadata": {
    "colab": {
      "provenance": [],
      "include_colab_link": true
    },
    "kernelspec": {
      "name": "python3",
      "display_name": "Python 3"
    },
    "language_info": {
      "name": "python"
    }
  },
  "cells": [
    {
      "cell_type": "markdown",
      "metadata": {
        "id": "view-in-github",
        "colab_type": "text"
      },
      "source": [
        "<a href=\"https://colab.research.google.com/github/wcj365/python-stats-dataviz/blob/master/fall2024/from_aravind_9_11_24.ipynb\" target=\"_parent\"><img src=\"https://colab.research.google.com/assets/colab-badge.svg\" alt=\"Open In Colab\"/></a>"
      ]
    },
    {
      "cell_type": "markdown",
      "source": [
        "# UMBC Data 690 Fall 2024\n",
        "\n",
        "## Session 02"
      ],
      "metadata": {
        "id": "MLwxpbb8Y4-U"
      }
    },
    {
      "cell_type": "code",
      "execution_count": 1,
      "metadata": {
        "id": "jwAKrvxWYuf7"
      },
      "outputs": [],
      "source": [
        "import pandas as pd\n",
        "\n",
        "DATA_URL = \"https://raw.githubusercontent.com/wcj365/python-stats-dataviz/master/fall2024/survey/UMBC%20DATA%20690%20FALL%202024%20DR%20WANG%20Student%20Survey.csv\""
      ]
    },
    {
      "cell_type": "markdown",
      "source": [
        "## Step 1 - Load the Survey Response Data and Explore"
      ],
      "metadata": {
        "id": "N6ZjSdPKc0cv"
      }
    },
    {
      "cell_type": "code",
      "source": [
        "df = pd.read_csv(DATA_URL)\n",
        "\n",
        "df.shape"
      ],
      "metadata": {
        "colab": {
          "base_uri": "https://localhost:8080/"
        },
        "id": "BeLNhTIHZ0UE",
        "outputId": "af181b38-38f3-4e4f-83a1-8363f55e18bf"
      },
      "execution_count": 2,
      "outputs": [
        {
          "output_type": "execute_result",
          "data": {
            "text/plain": [
              "(21, 13)"
            ]
          },
          "metadata": {},
          "execution_count": 2
        }
      ]
    },
    {
      "cell_type": "code",
      "source": [
        "df.head()"
      ],
      "metadata": {
        "colab": {
          "base_uri": "https://localhost:8080/",
          "height": 657
        },
        "id": "fPmMSIBOaCI0",
        "outputId": "930b3c64-e63d-4b08-dfd7-12a03b39480c"
      },
      "execution_count": 3,
      "outputs": [
        {
          "output_type": "execute_result",
          "data": {
            "text/plain": [
              "                    Timestamp           1. My primary educational background  \\\n",
              "0   2024/08/18 8:33:50 PM AST  STEM (Science, Technology, Engineering, Math)   \n",
              "1   2024/08/18 8:33:54 PM AST  STEM (Science, Technology, Engineering, Math)   \n",
              "2  2024/08/19 10:33:47 AM AST  STEM (Science, Technology, Engineering, Math)   \n",
              "3  2024/08/19 12:38:37 PM AST  STEM (Science, Technology, Engineering, Math)   \n",
              "4   2024/08/22 3:05:13 AM AST  STEM (Science, Technology, Engineering, Math)   \n",
              "\n",
              "        2. My primary job function  \\\n",
              "0                Full-time Student   \n",
              "1                Full-time Student   \n",
              "2                Full-time Student   \n",
              "3  Technology/engineering-oriented   \n",
              "4                Full-time Student   \n",
              "\n",
              "  3. My level of computer programing knowledge  \\\n",
              "0                                 Intermediate   \n",
              "1                                 Intermediate   \n",
              "2                                 Intermediate   \n",
              "3                                 Intermediate   \n",
              "4                                 Intermediate   \n",
              "\n",
              "  4. My level of Python progrmming knowledge  \\\n",
              "0                               Intermediate   \n",
              "1                               Intermediate   \n",
              "2                               Intermediate   \n",
              "3                               Intermediate   \n",
              "4                               Intermediate   \n",
              "\n",
              "  5. My level of Statistics knowledge 6. My Familarity with GitHub  \\\n",
              "0                        Intermediate    I use GitHub occasionally   \n",
              "1                        Intermediate    I use GitHub occasionally   \n",
              "2                        Intermediate       I use GitHub regularly   \n",
              "3                        Intermediate    I use GitHub occasionally   \n",
              "4                            Beginner       I use GitHub regularly   \n",
              "\n",
              "  7. My gender 8. My Birth Year  \\\n",
              "0         Male             2000   \n",
              "1         Male             2002   \n",
              "2         Male             1997   \n",
              "3       Female        7/21/1999   \n",
              "4         Male             2000   \n",
              "\n",
              "    9. What do you enjoy doing in your leisure time?  \\\n",
              "0                  Use to do some personal projects    \n",
              "1                                    Playing Cricket   \n",
              "2  Doing courses and leveling up my knowledge in ...   \n",
              "3                                     Surfing google   \n",
              "4                             I like to study movies   \n",
              "\n",
              "   10. What do you expect to get out of this course?  \\\n",
              "0                 Data analysis with proper visuals    \n",
              "1  To get good knowledge about statistics , data ...   \n",
              "2  I would expect to learn statistics concepts wi...   \n",
              "3  Get knowledge on statistics, perform data anal...   \n",
              "4  I want to be good enough in Python by the end ...   \n",
              "\n",
              "             11. What is your long-term career goal?  \\\n",
              "0                      I want to become a developer    \n",
              "1                      Try to start my own business.   \n",
              "2  My aim is to become a Data Engineer and  Data ...   \n",
              "3           Be well suited for Data Science position   \n",
              "4  I would like see myself solving daily problems...   \n",
              "\n",
              "              12. Other courses taking this semester  \n",
              "0  HIT 664 : HEALTH IT LAW AND ETHICS , HEALTH 72...  \n",
              "1  HIT 664 - Health IT Law And Ethics  ; HIT 723 ...  \n",
              "2                              Deep Learning and LLM  \n",
              "3  This is my last semester and is the only cours...  \n",
              "4  ENMG 659 Strategic Management and ENMG 668 Pro...  "
            ],
            "text/html": [
              "\n",
              "  <div id=\"df-860ef4f2-7e3a-4e46-918f-81689579db7e\" class=\"colab-df-container\">\n",
              "    <div>\n",
              "<style scoped>\n",
              "    .dataframe tbody tr th:only-of-type {\n",
              "        vertical-align: middle;\n",
              "    }\n",
              "\n",
              "    .dataframe tbody tr th {\n",
              "        vertical-align: top;\n",
              "    }\n",
              "\n",
              "    .dataframe thead th {\n",
              "        text-align: right;\n",
              "    }\n",
              "</style>\n",
              "<table border=\"1\" class=\"dataframe\">\n",
              "  <thead>\n",
              "    <tr style=\"text-align: right;\">\n",
              "      <th></th>\n",
              "      <th>Timestamp</th>\n",
              "      <th>1. My primary educational background</th>\n",
              "      <th>2. My primary job function</th>\n",
              "      <th>3. My level of computer programing knowledge</th>\n",
              "      <th>4. My level of Python progrmming knowledge</th>\n",
              "      <th>5. My level of Statistics knowledge</th>\n",
              "      <th>6. My Familarity with GitHub</th>\n",
              "      <th>7. My gender</th>\n",
              "      <th>8. My Birth Year</th>\n",
              "      <th>9. What do you enjoy doing in your leisure time?</th>\n",
              "      <th>10. What do you expect to get out of this course?</th>\n",
              "      <th>11. What is your long-term career goal?</th>\n",
              "      <th>12. Other courses taking this semester</th>\n",
              "    </tr>\n",
              "  </thead>\n",
              "  <tbody>\n",
              "    <tr>\n",
              "      <th>0</th>\n",
              "      <td>2024/08/18 8:33:50 PM AST</td>\n",
              "      <td>STEM (Science, Technology, Engineering, Math)</td>\n",
              "      <td>Full-time Student</td>\n",
              "      <td>Intermediate</td>\n",
              "      <td>Intermediate</td>\n",
              "      <td>Intermediate</td>\n",
              "      <td>I use GitHub occasionally</td>\n",
              "      <td>Male</td>\n",
              "      <td>2000</td>\n",
              "      <td>Use to do some personal projects</td>\n",
              "      <td>Data analysis with proper visuals</td>\n",
              "      <td>I want to become a developer</td>\n",
              "      <td>HIT 664 : HEALTH IT LAW AND ETHICS , HEALTH 72...</td>\n",
              "    </tr>\n",
              "    <tr>\n",
              "      <th>1</th>\n",
              "      <td>2024/08/18 8:33:54 PM AST</td>\n",
              "      <td>STEM (Science, Technology, Engineering, Math)</td>\n",
              "      <td>Full-time Student</td>\n",
              "      <td>Intermediate</td>\n",
              "      <td>Intermediate</td>\n",
              "      <td>Intermediate</td>\n",
              "      <td>I use GitHub occasionally</td>\n",
              "      <td>Male</td>\n",
              "      <td>2002</td>\n",
              "      <td>Playing Cricket</td>\n",
              "      <td>To get good knowledge about statistics , data ...</td>\n",
              "      <td>Try to start my own business.</td>\n",
              "      <td>HIT 664 - Health IT Law And Ethics  ; HIT 723 ...</td>\n",
              "    </tr>\n",
              "    <tr>\n",
              "      <th>2</th>\n",
              "      <td>2024/08/19 10:33:47 AM AST</td>\n",
              "      <td>STEM (Science, Technology, Engineering, Math)</td>\n",
              "      <td>Full-time Student</td>\n",
              "      <td>Intermediate</td>\n",
              "      <td>Intermediate</td>\n",
              "      <td>Intermediate</td>\n",
              "      <td>I use GitHub regularly</td>\n",
              "      <td>Male</td>\n",
              "      <td>1997</td>\n",
              "      <td>Doing courses and leveling up my knowledge in ...</td>\n",
              "      <td>I would expect to learn statistics concepts wi...</td>\n",
              "      <td>My aim is to become a Data Engineer and  Data ...</td>\n",
              "      <td>Deep Learning and LLM</td>\n",
              "    </tr>\n",
              "    <tr>\n",
              "      <th>3</th>\n",
              "      <td>2024/08/19 12:38:37 PM AST</td>\n",
              "      <td>STEM (Science, Technology, Engineering, Math)</td>\n",
              "      <td>Technology/engineering-oriented</td>\n",
              "      <td>Intermediate</td>\n",
              "      <td>Intermediate</td>\n",
              "      <td>Intermediate</td>\n",
              "      <td>I use GitHub occasionally</td>\n",
              "      <td>Female</td>\n",
              "      <td>7/21/1999</td>\n",
              "      <td>Surfing google</td>\n",
              "      <td>Get knowledge on statistics, perform data anal...</td>\n",
              "      <td>Be well suited for Data Science position</td>\n",
              "      <td>This is my last semester and is the only cours...</td>\n",
              "    </tr>\n",
              "    <tr>\n",
              "      <th>4</th>\n",
              "      <td>2024/08/22 3:05:13 AM AST</td>\n",
              "      <td>STEM (Science, Technology, Engineering, Math)</td>\n",
              "      <td>Full-time Student</td>\n",
              "      <td>Intermediate</td>\n",
              "      <td>Intermediate</td>\n",
              "      <td>Beginner</td>\n",
              "      <td>I use GitHub regularly</td>\n",
              "      <td>Male</td>\n",
              "      <td>2000</td>\n",
              "      <td>I like to study movies</td>\n",
              "      <td>I want to be good enough in Python by the end ...</td>\n",
              "      <td>I would like see myself solving daily problems...</td>\n",
              "      <td>ENMG 659 Strategic Management and ENMG 668 Pro...</td>\n",
              "    </tr>\n",
              "  </tbody>\n",
              "</table>\n",
              "</div>\n",
              "    <div class=\"colab-df-buttons\">\n",
              "\n",
              "  <div class=\"colab-df-container\">\n",
              "    <button class=\"colab-df-convert\" onclick=\"convertToInteractive('df-860ef4f2-7e3a-4e46-918f-81689579db7e')\"\n",
              "            title=\"Convert this dataframe to an interactive table.\"\n",
              "            style=\"display:none;\">\n",
              "\n",
              "  <svg xmlns=\"http://www.w3.org/2000/svg\" height=\"24px\" viewBox=\"0 -960 960 960\">\n",
              "    <path d=\"M120-120v-720h720v720H120Zm60-500h600v-160H180v160Zm220 220h160v-160H400v160Zm0 220h160v-160H400v160ZM180-400h160v-160H180v160Zm440 0h160v-160H620v160ZM180-180h160v-160H180v160Zm440 0h160v-160H620v160Z\"/>\n",
              "  </svg>\n",
              "    </button>\n",
              "\n",
              "  <style>\n",
              "    .colab-df-container {\n",
              "      display:flex;\n",
              "      gap: 12px;\n",
              "    }\n",
              "\n",
              "    .colab-df-convert {\n",
              "      background-color: #E8F0FE;\n",
              "      border: none;\n",
              "      border-radius: 50%;\n",
              "      cursor: pointer;\n",
              "      display: none;\n",
              "      fill: #1967D2;\n",
              "      height: 32px;\n",
              "      padding: 0 0 0 0;\n",
              "      width: 32px;\n",
              "    }\n",
              "\n",
              "    .colab-df-convert:hover {\n",
              "      background-color: #E2EBFA;\n",
              "      box-shadow: 0px 1px 2px rgba(60, 64, 67, 0.3), 0px 1px 3px 1px rgba(60, 64, 67, 0.15);\n",
              "      fill: #174EA6;\n",
              "    }\n",
              "\n",
              "    .colab-df-buttons div {\n",
              "      margin-bottom: 4px;\n",
              "    }\n",
              "\n",
              "    [theme=dark] .colab-df-convert {\n",
              "      background-color: #3B4455;\n",
              "      fill: #D2E3FC;\n",
              "    }\n",
              "\n",
              "    [theme=dark] .colab-df-convert:hover {\n",
              "      background-color: #434B5C;\n",
              "      box-shadow: 0px 1px 3px 1px rgba(0, 0, 0, 0.15);\n",
              "      filter: drop-shadow(0px 1px 2px rgba(0, 0, 0, 0.3));\n",
              "      fill: #FFFFFF;\n",
              "    }\n",
              "  </style>\n",
              "\n",
              "    <script>\n",
              "      const buttonEl =\n",
              "        document.querySelector('#df-860ef4f2-7e3a-4e46-918f-81689579db7e button.colab-df-convert');\n",
              "      buttonEl.style.display =\n",
              "        google.colab.kernel.accessAllowed ? 'block' : 'none';\n",
              "\n",
              "      async function convertToInteractive(key) {\n",
              "        const element = document.querySelector('#df-860ef4f2-7e3a-4e46-918f-81689579db7e');\n",
              "        const dataTable =\n",
              "          await google.colab.kernel.invokeFunction('convertToInteractive',\n",
              "                                                    [key], {});\n",
              "        if (!dataTable) return;\n",
              "\n",
              "        const docLinkHtml = 'Like what you see? Visit the ' +\n",
              "          '<a target=\"_blank\" href=https://colab.research.google.com/notebooks/data_table.ipynb>data table notebook</a>'\n",
              "          + ' to learn more about interactive tables.';\n",
              "        element.innerHTML = '';\n",
              "        dataTable['output_type'] = 'display_data';\n",
              "        await google.colab.output.renderOutput(dataTable, element);\n",
              "        const docLink = document.createElement('div');\n",
              "        docLink.innerHTML = docLinkHtml;\n",
              "        element.appendChild(docLink);\n",
              "      }\n",
              "    </script>\n",
              "  </div>\n",
              "\n",
              "\n",
              "<div id=\"df-806ec7a7-fa9b-4a2a-836a-ddc9991aebd7\">\n",
              "  <button class=\"colab-df-quickchart\" onclick=\"quickchart('df-806ec7a7-fa9b-4a2a-836a-ddc9991aebd7')\"\n",
              "            title=\"Suggest charts\"\n",
              "            style=\"display:none;\">\n",
              "\n",
              "<svg xmlns=\"http://www.w3.org/2000/svg\" height=\"24px\"viewBox=\"0 0 24 24\"\n",
              "     width=\"24px\">\n",
              "    <g>\n",
              "        <path d=\"M19 3H5c-1.1 0-2 .9-2 2v14c0 1.1.9 2 2 2h14c1.1 0 2-.9 2-2V5c0-1.1-.9-2-2-2zM9 17H7v-7h2v7zm4 0h-2V7h2v10zm4 0h-2v-4h2v4z\"/>\n",
              "    </g>\n",
              "</svg>\n",
              "  </button>\n",
              "\n",
              "<style>\n",
              "  .colab-df-quickchart {\n",
              "      --bg-color: #E8F0FE;\n",
              "      --fill-color: #1967D2;\n",
              "      --hover-bg-color: #E2EBFA;\n",
              "      --hover-fill-color: #174EA6;\n",
              "      --disabled-fill-color: #AAA;\n",
              "      --disabled-bg-color: #DDD;\n",
              "  }\n",
              "\n",
              "  [theme=dark] .colab-df-quickchart {\n",
              "      --bg-color: #3B4455;\n",
              "      --fill-color: #D2E3FC;\n",
              "      --hover-bg-color: #434B5C;\n",
              "      --hover-fill-color: #FFFFFF;\n",
              "      --disabled-bg-color: #3B4455;\n",
              "      --disabled-fill-color: #666;\n",
              "  }\n",
              "\n",
              "  .colab-df-quickchart {\n",
              "    background-color: var(--bg-color);\n",
              "    border: none;\n",
              "    border-radius: 50%;\n",
              "    cursor: pointer;\n",
              "    display: none;\n",
              "    fill: var(--fill-color);\n",
              "    height: 32px;\n",
              "    padding: 0;\n",
              "    width: 32px;\n",
              "  }\n",
              "\n",
              "  .colab-df-quickchart:hover {\n",
              "    background-color: var(--hover-bg-color);\n",
              "    box-shadow: 0 1px 2px rgba(60, 64, 67, 0.3), 0 1px 3px 1px rgba(60, 64, 67, 0.15);\n",
              "    fill: var(--button-hover-fill-color);\n",
              "  }\n",
              "\n",
              "  .colab-df-quickchart-complete:disabled,\n",
              "  .colab-df-quickchart-complete:disabled:hover {\n",
              "    background-color: var(--disabled-bg-color);\n",
              "    fill: var(--disabled-fill-color);\n",
              "    box-shadow: none;\n",
              "  }\n",
              "\n",
              "  .colab-df-spinner {\n",
              "    border: 2px solid var(--fill-color);\n",
              "    border-color: transparent;\n",
              "    border-bottom-color: var(--fill-color);\n",
              "    animation:\n",
              "      spin 1s steps(1) infinite;\n",
              "  }\n",
              "\n",
              "  @keyframes spin {\n",
              "    0% {\n",
              "      border-color: transparent;\n",
              "      border-bottom-color: var(--fill-color);\n",
              "      border-left-color: var(--fill-color);\n",
              "    }\n",
              "    20% {\n",
              "      border-color: transparent;\n",
              "      border-left-color: var(--fill-color);\n",
              "      border-top-color: var(--fill-color);\n",
              "    }\n",
              "    30% {\n",
              "      border-color: transparent;\n",
              "      border-left-color: var(--fill-color);\n",
              "      border-top-color: var(--fill-color);\n",
              "      border-right-color: var(--fill-color);\n",
              "    }\n",
              "    40% {\n",
              "      border-color: transparent;\n",
              "      border-right-color: var(--fill-color);\n",
              "      border-top-color: var(--fill-color);\n",
              "    }\n",
              "    60% {\n",
              "      border-color: transparent;\n",
              "      border-right-color: var(--fill-color);\n",
              "    }\n",
              "    80% {\n",
              "      border-color: transparent;\n",
              "      border-right-color: var(--fill-color);\n",
              "      border-bottom-color: var(--fill-color);\n",
              "    }\n",
              "    90% {\n",
              "      border-color: transparent;\n",
              "      border-bottom-color: var(--fill-color);\n",
              "    }\n",
              "  }\n",
              "</style>\n",
              "\n",
              "  <script>\n",
              "    async function quickchart(key) {\n",
              "      const quickchartButtonEl =\n",
              "        document.querySelector('#' + key + ' button');\n",
              "      quickchartButtonEl.disabled = true;  // To prevent multiple clicks.\n",
              "      quickchartButtonEl.classList.add('colab-df-spinner');\n",
              "      try {\n",
              "        const charts = await google.colab.kernel.invokeFunction(\n",
              "            'suggestCharts', [key], {});\n",
              "      } catch (error) {\n",
              "        console.error('Error during call to suggestCharts:', error);\n",
              "      }\n",
              "      quickchartButtonEl.classList.remove('colab-df-spinner');\n",
              "      quickchartButtonEl.classList.add('colab-df-quickchart-complete');\n",
              "    }\n",
              "    (() => {\n",
              "      let quickchartButtonEl =\n",
              "        document.querySelector('#df-806ec7a7-fa9b-4a2a-836a-ddc9991aebd7 button');\n",
              "      quickchartButtonEl.style.display =\n",
              "        google.colab.kernel.accessAllowed ? 'block' : 'none';\n",
              "    })();\n",
              "  </script>\n",
              "</div>\n",
              "\n",
              "    </div>\n",
              "  </div>\n"
            ],
            "application/vnd.google.colaboratory.intrinsic+json": {
              "type": "dataframe",
              "variable_name": "df",
              "summary": "{\n  \"name\": \"df\",\n  \"rows\": 21,\n  \"fields\": [\n    {\n      \"column\": \"Timestamp\",\n      \"properties\": {\n        \"dtype\": \"object\",\n        \"num_unique_values\": 21,\n        \"samples\": [\n          \"2024/08/18 8:33:50 PM AST\",\n          \"2024/08/28 6:56:33 PM AST\",\n          \"2024/08/28 6:49:28 PM AST\"\n        ],\n        \"semantic_type\": \"\",\n        \"description\": \"\"\n      }\n    },\n    {\n      \"column\": \"1. My primary educational background\",\n      \"properties\": {\n        \"dtype\": \"category\",\n        \"num_unique_values\": 3,\n        \"samples\": [\n          \"STEM (Science, Technology, Engineering, Math)\",\n          \"Social Science (History, Philosophy, Education, etc. )\",\n          \"Criminal Justice with some Software Engineering courses\"\n        ],\n        \"semantic_type\": \"\",\n        \"description\": \"\"\n      }\n    },\n    {\n      \"column\": \"2. My primary job function\",\n      \"properties\": {\n        \"dtype\": \"category\",\n        \"num_unique_values\": 3,\n        \"samples\": [\n          \"Full-time Student\",\n          \"Technology/engineering-oriented\",\n          \"Business/service-oriented\"\n        ],\n        \"semantic_type\": \"\",\n        \"description\": \"\"\n      }\n    },\n    {\n      \"column\": \"3. My level of computer programing knowledge\",\n      \"properties\": {\n        \"dtype\": \"category\",\n        \"num_unique_values\": 3,\n        \"samples\": [\n          \"Intermediate\",\n          \"Beginner\",\n          \"Expert\"\n        ],\n        \"semantic_type\": \"\",\n        \"description\": \"\"\n      }\n    },\n    {\n      \"column\": \"4. My level of Python progrmming knowledge\",\n      \"properties\": {\n        \"dtype\": \"category\",\n        \"num_unique_values\": 4,\n        \"samples\": [\n          \"No exposure\",\n          \"Beginner\",\n          \"Intermediate\"\n        ],\n        \"semantic_type\": \"\",\n        \"description\": \"\"\n      }\n    },\n    {\n      \"column\": \"5. My level of Statistics knowledge\",\n      \"properties\": {\n        \"dtype\": \"category\",\n        \"num_unique_values\": 2,\n        \"samples\": [\n          \"Beginner\",\n          \"Intermediate\"\n        ],\n        \"semantic_type\": \"\",\n        \"description\": \"\"\n      }\n    },\n    {\n      \"column\": \"6. My Familarity with GitHub\",\n      \"properties\": {\n        \"dtype\": \"category\",\n        \"num_unique_values\": 3,\n        \"samples\": [\n          \"I use GitHub occasionally\",\n          \"I use GitHub regularly\"\n        ],\n        \"semantic_type\": \"\",\n        \"description\": \"\"\n      }\n    },\n    {\n      \"column\": \"7. My gender\",\n      \"properties\": {\n        \"dtype\": \"category\",\n        \"num_unique_values\": 2,\n        \"samples\": [\n          \"Female\",\n          \"Male\"\n        ],\n        \"semantic_type\": \"\",\n        \"description\": \"\"\n      }\n    },\n    {\n      \"column\": \"8. My Birth Year\",\n      \"properties\": {\n        \"dtype\": \"string\",\n        \"num_unique_values\": 12,\n        \"samples\": [\n          \"1992\",\n          \"3/1/2001\"\n        ],\n        \"semantic_type\": \"\",\n        \"description\": \"\"\n      }\n    },\n    {\n      \"column\": \"9. What do you enjoy doing in your leisure time?\",\n      \"properties\": {\n        \"dtype\": \"string\",\n        \"num_unique_values\": 21,\n        \"samples\": [\n          \"Use to do some personal projects \",\n          \"Weightlifting\"\n        ],\n        \"semantic_type\": \"\",\n        \"description\": \"\"\n      }\n    },\n    {\n      \"column\": \"10. What do you expect to get out of this course?\",\n      \"properties\": {\n        \"dtype\": \"string\",\n        \"num_unique_values\": 21,\n        \"samples\": [\n          \"Data analysis with proper visuals \",\n          \"Strong foundation in data analytics with Python, \\\"brushing up\\\" on statistics\"\n        ],\n        \"semantic_type\": \"\",\n        \"description\": \"\"\n      }\n    },\n    {\n      \"column\": \"11. What is your long-term career goal?\",\n      \"properties\": {\n        \"dtype\": \"string\",\n        \"num_unique_values\": 21,\n        \"samples\": [\n          \"I want to become a developer \",\n          \"graduation, applying studies to cybersecurity in the military, and eventually serving as a data scientist for small businesses\"\n        ],\n        \"semantic_type\": \"\",\n        \"description\": \"\"\n      }\n    },\n    {\n      \"column\": \"12. Other courses taking this semester\",\n      \"properties\": {\n        \"dtype\": \"string\",\n        \"num_unique_values\": 18,\n        \"samples\": [\n          \"HIT 664 : HEALTH IT LAW AND ETHICS , HEALTH 723 : PUBLIC HEALTH INFORMATICS \",\n          \"HIT 664 - Health IT Law And Ethics  ; HIT 723 - Public Health Informatics.\"\n        ],\n        \"semantic_type\": \"\",\n        \"description\": \"\"\n      }\n    }\n  ]\n}"
            }
          },
          "metadata": {},
          "execution_count": 3
        }
      ]
    },
    {
      "cell_type": "code",
      "source": [
        "df.tail(2)"
      ],
      "metadata": {
        "colab": {
          "base_uri": "https://localhost:8080/",
          "height": 320
        },
        "id": "VN4FJ7-caPhi",
        "outputId": "952b1d8d-ab24-49b5-e9c3-bf51c74274cf"
      },
      "execution_count": 4,
      "outputs": [
        {
          "output_type": "execute_result",
          "data": {
            "text/plain": [
              "                    Timestamp           1. My primary educational background  \\\n",
              "19  2024/08/28 7:04:43 PM AST  STEM (Science, Technology, Engineering, Math)   \n",
              "20  2024/08/28 7:07:08 PM AST  STEM (Science, Technology, Engineering, Math)   \n",
              "\n",
              "         2. My primary job function  \\\n",
              "19                Full-time Student   \n",
              "20  Technology/engineering-oriented   \n",
              "\n",
              "   3. My level of computer programing knowledge  \\\n",
              "19                                 Intermediate   \n",
              "20                                 Intermediate   \n",
              "\n",
              "   4. My level of Python progrmming knowledge  \\\n",
              "19                               Intermediate   \n",
              "20                               Intermediate   \n",
              "\n",
              "   5. My level of Statistics knowledge 6. My Familarity with GitHub  \\\n",
              "19                        Intermediate       I use GitHub regularly   \n",
              "20                        Intermediate    I use GitHub occasionally   \n",
              "\n",
              "   7. My gender 8. My Birth Year  \\\n",
              "19         Male             1997   \n",
              "20         Male             1999   \n",
              "\n",
              "     9. What do you enjoy doing in your leisure time?  \\\n",
              "19  Learning new things and upgrading myself with ...   \n",
              "20                                             Sports   \n",
              "\n",
              "    10. What do you expect to get out of this course?  \\\n",
              "19  From this course, I expect to learn how to vie...   \n",
              "20  A good handson experience on statistics and py...   \n",
              "\n",
              "   11. What is your long-term career goal?  \\\n",
              "19                To become a Data Analyst   \n",
              "20                            Data analyst   \n",
              "\n",
              "               12. Other courses taking this semester  \n",
              "19                              LLM and Deep Learning  \n",
              "20  Capstone in Data Science | DATA 606;Special To...  "
            ],
            "text/html": [
              "\n",
              "  <div id=\"df-449cbcba-be81-4767-ae84-3735a90eeb42\" class=\"colab-df-container\">\n",
              "    <div>\n",
              "<style scoped>\n",
              "    .dataframe tbody tr th:only-of-type {\n",
              "        vertical-align: middle;\n",
              "    }\n",
              "\n",
              "    .dataframe tbody tr th {\n",
              "        vertical-align: top;\n",
              "    }\n",
              "\n",
              "    .dataframe thead th {\n",
              "        text-align: right;\n",
              "    }\n",
              "</style>\n",
              "<table border=\"1\" class=\"dataframe\">\n",
              "  <thead>\n",
              "    <tr style=\"text-align: right;\">\n",
              "      <th></th>\n",
              "      <th>Timestamp</th>\n",
              "      <th>1. My primary educational background</th>\n",
              "      <th>2. My primary job function</th>\n",
              "      <th>3. My level of computer programing knowledge</th>\n",
              "      <th>4. My level of Python progrmming knowledge</th>\n",
              "      <th>5. My level of Statistics knowledge</th>\n",
              "      <th>6. My Familarity with GitHub</th>\n",
              "      <th>7. My gender</th>\n",
              "      <th>8. My Birth Year</th>\n",
              "      <th>9. What do you enjoy doing in your leisure time?</th>\n",
              "      <th>10. What do you expect to get out of this course?</th>\n",
              "      <th>11. What is your long-term career goal?</th>\n",
              "      <th>12. Other courses taking this semester</th>\n",
              "    </tr>\n",
              "  </thead>\n",
              "  <tbody>\n",
              "    <tr>\n",
              "      <th>19</th>\n",
              "      <td>2024/08/28 7:04:43 PM AST</td>\n",
              "      <td>STEM (Science, Technology, Engineering, Math)</td>\n",
              "      <td>Full-time Student</td>\n",
              "      <td>Intermediate</td>\n",
              "      <td>Intermediate</td>\n",
              "      <td>Intermediate</td>\n",
              "      <td>I use GitHub regularly</td>\n",
              "      <td>Male</td>\n",
              "      <td>1997</td>\n",
              "      <td>Learning new things and upgrading myself with ...</td>\n",
              "      <td>From this course, I expect to learn how to vie...</td>\n",
              "      <td>To become a Data Analyst</td>\n",
              "      <td>LLM and Deep Learning</td>\n",
              "    </tr>\n",
              "    <tr>\n",
              "      <th>20</th>\n",
              "      <td>2024/08/28 7:07:08 PM AST</td>\n",
              "      <td>STEM (Science, Technology, Engineering, Math)</td>\n",
              "      <td>Technology/engineering-oriented</td>\n",
              "      <td>Intermediate</td>\n",
              "      <td>Intermediate</td>\n",
              "      <td>Intermediate</td>\n",
              "      <td>I use GitHub occasionally</td>\n",
              "      <td>Male</td>\n",
              "      <td>1999</td>\n",
              "      <td>Sports</td>\n",
              "      <td>A good handson experience on statistics and py...</td>\n",
              "      <td>Data analyst</td>\n",
              "      <td>Capstone in Data Science | DATA 606;Special To...</td>\n",
              "    </tr>\n",
              "  </tbody>\n",
              "</table>\n",
              "</div>\n",
              "    <div class=\"colab-df-buttons\">\n",
              "\n",
              "  <div class=\"colab-df-container\">\n",
              "    <button class=\"colab-df-convert\" onclick=\"convertToInteractive('df-449cbcba-be81-4767-ae84-3735a90eeb42')\"\n",
              "            title=\"Convert this dataframe to an interactive table.\"\n",
              "            style=\"display:none;\">\n",
              "\n",
              "  <svg xmlns=\"http://www.w3.org/2000/svg\" height=\"24px\" viewBox=\"0 -960 960 960\">\n",
              "    <path d=\"M120-120v-720h720v720H120Zm60-500h600v-160H180v160Zm220 220h160v-160H400v160Zm0 220h160v-160H400v160ZM180-400h160v-160H180v160Zm440 0h160v-160H620v160ZM180-180h160v-160H180v160Zm440 0h160v-160H620v160Z\"/>\n",
              "  </svg>\n",
              "    </button>\n",
              "\n",
              "  <style>\n",
              "    .colab-df-container {\n",
              "      display:flex;\n",
              "      gap: 12px;\n",
              "    }\n",
              "\n",
              "    .colab-df-convert {\n",
              "      background-color: #E8F0FE;\n",
              "      border: none;\n",
              "      border-radius: 50%;\n",
              "      cursor: pointer;\n",
              "      display: none;\n",
              "      fill: #1967D2;\n",
              "      height: 32px;\n",
              "      padding: 0 0 0 0;\n",
              "      width: 32px;\n",
              "    }\n",
              "\n",
              "    .colab-df-convert:hover {\n",
              "      background-color: #E2EBFA;\n",
              "      box-shadow: 0px 1px 2px rgba(60, 64, 67, 0.3), 0px 1px 3px 1px rgba(60, 64, 67, 0.15);\n",
              "      fill: #174EA6;\n",
              "    }\n",
              "\n",
              "    .colab-df-buttons div {\n",
              "      margin-bottom: 4px;\n",
              "    }\n",
              "\n",
              "    [theme=dark] .colab-df-convert {\n",
              "      background-color: #3B4455;\n",
              "      fill: #D2E3FC;\n",
              "    }\n",
              "\n",
              "    [theme=dark] .colab-df-convert:hover {\n",
              "      background-color: #434B5C;\n",
              "      box-shadow: 0px 1px 3px 1px rgba(0, 0, 0, 0.15);\n",
              "      filter: drop-shadow(0px 1px 2px rgba(0, 0, 0, 0.3));\n",
              "      fill: #FFFFFF;\n",
              "    }\n",
              "  </style>\n",
              "\n",
              "    <script>\n",
              "      const buttonEl =\n",
              "        document.querySelector('#df-449cbcba-be81-4767-ae84-3735a90eeb42 button.colab-df-convert');\n",
              "      buttonEl.style.display =\n",
              "        google.colab.kernel.accessAllowed ? 'block' : 'none';\n",
              "\n",
              "      async function convertToInteractive(key) {\n",
              "        const element = document.querySelector('#df-449cbcba-be81-4767-ae84-3735a90eeb42');\n",
              "        const dataTable =\n",
              "          await google.colab.kernel.invokeFunction('convertToInteractive',\n",
              "                                                    [key], {});\n",
              "        if (!dataTable) return;\n",
              "\n",
              "        const docLinkHtml = 'Like what you see? Visit the ' +\n",
              "          '<a target=\"_blank\" href=https://colab.research.google.com/notebooks/data_table.ipynb>data table notebook</a>'\n",
              "          + ' to learn more about interactive tables.';\n",
              "        element.innerHTML = '';\n",
              "        dataTable['output_type'] = 'display_data';\n",
              "        await google.colab.output.renderOutput(dataTable, element);\n",
              "        const docLink = document.createElement('div');\n",
              "        docLink.innerHTML = docLinkHtml;\n",
              "        element.appendChild(docLink);\n",
              "      }\n",
              "    </script>\n",
              "  </div>\n",
              "\n",
              "\n",
              "<div id=\"df-dbb86460-931a-4f08-ac8b-3c953f6ba8dd\">\n",
              "  <button class=\"colab-df-quickchart\" onclick=\"quickchart('df-dbb86460-931a-4f08-ac8b-3c953f6ba8dd')\"\n",
              "            title=\"Suggest charts\"\n",
              "            style=\"display:none;\">\n",
              "\n",
              "<svg xmlns=\"http://www.w3.org/2000/svg\" height=\"24px\"viewBox=\"0 0 24 24\"\n",
              "     width=\"24px\">\n",
              "    <g>\n",
              "        <path d=\"M19 3H5c-1.1 0-2 .9-2 2v14c0 1.1.9 2 2 2h14c1.1 0 2-.9 2-2V5c0-1.1-.9-2-2-2zM9 17H7v-7h2v7zm4 0h-2V7h2v10zm4 0h-2v-4h2v4z\"/>\n",
              "    </g>\n",
              "</svg>\n",
              "  </button>\n",
              "\n",
              "<style>\n",
              "  .colab-df-quickchart {\n",
              "      --bg-color: #E8F0FE;\n",
              "      --fill-color: #1967D2;\n",
              "      --hover-bg-color: #E2EBFA;\n",
              "      --hover-fill-color: #174EA6;\n",
              "      --disabled-fill-color: #AAA;\n",
              "      --disabled-bg-color: #DDD;\n",
              "  }\n",
              "\n",
              "  [theme=dark] .colab-df-quickchart {\n",
              "      --bg-color: #3B4455;\n",
              "      --fill-color: #D2E3FC;\n",
              "      --hover-bg-color: #434B5C;\n",
              "      --hover-fill-color: #FFFFFF;\n",
              "      --disabled-bg-color: #3B4455;\n",
              "      --disabled-fill-color: #666;\n",
              "  }\n",
              "\n",
              "  .colab-df-quickchart {\n",
              "    background-color: var(--bg-color);\n",
              "    border: none;\n",
              "    border-radius: 50%;\n",
              "    cursor: pointer;\n",
              "    display: none;\n",
              "    fill: var(--fill-color);\n",
              "    height: 32px;\n",
              "    padding: 0;\n",
              "    width: 32px;\n",
              "  }\n",
              "\n",
              "  .colab-df-quickchart:hover {\n",
              "    background-color: var(--hover-bg-color);\n",
              "    box-shadow: 0 1px 2px rgba(60, 64, 67, 0.3), 0 1px 3px 1px rgba(60, 64, 67, 0.15);\n",
              "    fill: var(--button-hover-fill-color);\n",
              "  }\n",
              "\n",
              "  .colab-df-quickchart-complete:disabled,\n",
              "  .colab-df-quickchart-complete:disabled:hover {\n",
              "    background-color: var(--disabled-bg-color);\n",
              "    fill: var(--disabled-fill-color);\n",
              "    box-shadow: none;\n",
              "  }\n",
              "\n",
              "  .colab-df-spinner {\n",
              "    border: 2px solid var(--fill-color);\n",
              "    border-color: transparent;\n",
              "    border-bottom-color: var(--fill-color);\n",
              "    animation:\n",
              "      spin 1s steps(1) infinite;\n",
              "  }\n",
              "\n",
              "  @keyframes spin {\n",
              "    0% {\n",
              "      border-color: transparent;\n",
              "      border-bottom-color: var(--fill-color);\n",
              "      border-left-color: var(--fill-color);\n",
              "    }\n",
              "    20% {\n",
              "      border-color: transparent;\n",
              "      border-left-color: var(--fill-color);\n",
              "      border-top-color: var(--fill-color);\n",
              "    }\n",
              "    30% {\n",
              "      border-color: transparent;\n",
              "      border-left-color: var(--fill-color);\n",
              "      border-top-color: var(--fill-color);\n",
              "      border-right-color: var(--fill-color);\n",
              "    }\n",
              "    40% {\n",
              "      border-color: transparent;\n",
              "      border-right-color: var(--fill-color);\n",
              "      border-top-color: var(--fill-color);\n",
              "    }\n",
              "    60% {\n",
              "      border-color: transparent;\n",
              "      border-right-color: var(--fill-color);\n",
              "    }\n",
              "    80% {\n",
              "      border-color: transparent;\n",
              "      border-right-color: var(--fill-color);\n",
              "      border-bottom-color: var(--fill-color);\n",
              "    }\n",
              "    90% {\n",
              "      border-color: transparent;\n",
              "      border-bottom-color: var(--fill-color);\n",
              "    }\n",
              "  }\n",
              "</style>\n",
              "\n",
              "  <script>\n",
              "    async function quickchart(key) {\n",
              "      const quickchartButtonEl =\n",
              "        document.querySelector('#' + key + ' button');\n",
              "      quickchartButtonEl.disabled = true;  // To prevent multiple clicks.\n",
              "      quickchartButtonEl.classList.add('colab-df-spinner');\n",
              "      try {\n",
              "        const charts = await google.colab.kernel.invokeFunction(\n",
              "            'suggestCharts', [key], {});\n",
              "      } catch (error) {\n",
              "        console.error('Error during call to suggestCharts:', error);\n",
              "      }\n",
              "      quickchartButtonEl.classList.remove('colab-df-spinner');\n",
              "      quickchartButtonEl.classList.add('colab-df-quickchart-complete');\n",
              "    }\n",
              "    (() => {\n",
              "      let quickchartButtonEl =\n",
              "        document.querySelector('#df-dbb86460-931a-4f08-ac8b-3c953f6ba8dd button');\n",
              "      quickchartButtonEl.style.display =\n",
              "        google.colab.kernel.accessAllowed ? 'block' : 'none';\n",
              "    })();\n",
              "  </script>\n",
              "</div>\n",
              "\n",
              "    </div>\n",
              "  </div>\n"
            ],
            "application/vnd.google.colaboratory.intrinsic+json": {
              "type": "dataframe",
              "repr_error": "0"
            }
          },
          "metadata": {},
          "execution_count": 4
        }
      ]
    },
    {
      "cell_type": "code",
      "source": [
        "df.sample(3)"
      ],
      "metadata": {
        "colab": {
          "base_uri": "https://localhost:8080/",
          "height": 386
        },
        "id": "CGStXMx-aU0X",
        "outputId": "eec4a67b-2b87-4db1-8a95-00aff1f7c50a"
      },
      "execution_count": 5,
      "outputs": [
        {
          "output_type": "execute_result",
          "data": {
            "text/plain": [
              "                     Timestamp           1. My primary educational background  \\\n",
              "14   2024/08/28 5:33:53 PM AST  STEM (Science, Technology, Engineering, Math)   \n",
              "6   2024/08/22 10:34:30 AM AST  STEM (Science, Technology, Engineering, Math)   \n",
              "19   2024/08/28 7:04:43 PM AST  STEM (Science, Technology, Engineering, Math)   \n",
              "\n",
              "   2. My primary job function 3. My level of computer programing knowledge  \\\n",
              "14          Full-time Student                                     Beginner   \n",
              "6           Full-time Student                                 Intermediate   \n",
              "19          Full-time Student                                 Intermediate   \n",
              "\n",
              "   4. My level of Python progrmming knowledge  \\\n",
              "14                                   Beginner   \n",
              "6                                Intermediate   \n",
              "19                               Intermediate   \n",
              "\n",
              "   5. My level of Statistics knowledge 6. My Familarity with GitHub  \\\n",
              "14                            Beginner           I don't use GitHub   \n",
              "6                         Intermediate    I use GitHub occasionally   \n",
              "19                        Intermediate       I use GitHub regularly   \n",
              "\n",
              "   7. My gender 8. My Birth Year  \\\n",
              "14       Female             2001   \n",
              "6          Male             2000   \n",
              "19         Male             1997   \n",
              "\n",
              "     9. What do you enjoy doing in your leisure time?  \\\n",
              "14  Reading books and listening music, playing  games   \n",
              "6   Reading Books, Watching movies and staying act...   \n",
              "19  Learning new things and upgrading myself with ...   \n",
              "\n",
              "    10. What do you expect to get out of this course?  \\\n",
              "14  I want to learn programming hands on and expec...   \n",
              "6   I expect to learn the basics of statistics, ho...   \n",
              "19  From this course, I expect to learn how to vie...   \n",
              "\n",
              "              11. What is your long-term career goal?  \\\n",
              "14                                   Be in an IT firm   \n",
              "6   My long-term career goal is to become a skille...   \n",
              "19                           To become a Data Analyst   \n",
              "\n",
              "               12. Other courses taking this semester  \n",
              "14                                     Deep learning   \n",
              "6   HIT 658 Health Informatics-1, HIT 750 Data Ana...  \n",
              "19                              LLM and Deep Learning  "
            ],
            "text/html": [
              "\n",
              "  <div id=\"df-af72d823-d40b-440f-91a0-4b2cc5e34deb\" class=\"colab-df-container\">\n",
              "    <div>\n",
              "<style scoped>\n",
              "    .dataframe tbody tr th:only-of-type {\n",
              "        vertical-align: middle;\n",
              "    }\n",
              "\n",
              "    .dataframe tbody tr th {\n",
              "        vertical-align: top;\n",
              "    }\n",
              "\n",
              "    .dataframe thead th {\n",
              "        text-align: right;\n",
              "    }\n",
              "</style>\n",
              "<table border=\"1\" class=\"dataframe\">\n",
              "  <thead>\n",
              "    <tr style=\"text-align: right;\">\n",
              "      <th></th>\n",
              "      <th>Timestamp</th>\n",
              "      <th>1. My primary educational background</th>\n",
              "      <th>2. My primary job function</th>\n",
              "      <th>3. My level of computer programing knowledge</th>\n",
              "      <th>4. My level of Python progrmming knowledge</th>\n",
              "      <th>5. My level of Statistics knowledge</th>\n",
              "      <th>6. My Familarity with GitHub</th>\n",
              "      <th>7. My gender</th>\n",
              "      <th>8. My Birth Year</th>\n",
              "      <th>9. What do you enjoy doing in your leisure time?</th>\n",
              "      <th>10. What do you expect to get out of this course?</th>\n",
              "      <th>11. What is your long-term career goal?</th>\n",
              "      <th>12. Other courses taking this semester</th>\n",
              "    </tr>\n",
              "  </thead>\n",
              "  <tbody>\n",
              "    <tr>\n",
              "      <th>14</th>\n",
              "      <td>2024/08/28 5:33:53 PM AST</td>\n",
              "      <td>STEM (Science, Technology, Engineering, Math)</td>\n",
              "      <td>Full-time Student</td>\n",
              "      <td>Beginner</td>\n",
              "      <td>Beginner</td>\n",
              "      <td>Beginner</td>\n",
              "      <td>I don't use GitHub</td>\n",
              "      <td>Female</td>\n",
              "      <td>2001</td>\n",
              "      <td>Reading books and listening music, playing  games</td>\n",
              "      <td>I want to learn programming hands on and expec...</td>\n",
              "      <td>Be in an IT firm</td>\n",
              "      <td>Deep learning</td>\n",
              "    </tr>\n",
              "    <tr>\n",
              "      <th>6</th>\n",
              "      <td>2024/08/22 10:34:30 AM AST</td>\n",
              "      <td>STEM (Science, Technology, Engineering, Math)</td>\n",
              "      <td>Full-time Student</td>\n",
              "      <td>Intermediate</td>\n",
              "      <td>Intermediate</td>\n",
              "      <td>Intermediate</td>\n",
              "      <td>I use GitHub occasionally</td>\n",
              "      <td>Male</td>\n",
              "      <td>2000</td>\n",
              "      <td>Reading Books, Watching movies and staying act...</td>\n",
              "      <td>I expect to learn the basics of statistics, ho...</td>\n",
              "      <td>My long-term career goal is to become a skille...</td>\n",
              "      <td>HIT 658 Health Informatics-1, HIT 750 Data Ana...</td>\n",
              "    </tr>\n",
              "    <tr>\n",
              "      <th>19</th>\n",
              "      <td>2024/08/28 7:04:43 PM AST</td>\n",
              "      <td>STEM (Science, Technology, Engineering, Math)</td>\n",
              "      <td>Full-time Student</td>\n",
              "      <td>Intermediate</td>\n",
              "      <td>Intermediate</td>\n",
              "      <td>Intermediate</td>\n",
              "      <td>I use GitHub regularly</td>\n",
              "      <td>Male</td>\n",
              "      <td>1997</td>\n",
              "      <td>Learning new things and upgrading myself with ...</td>\n",
              "      <td>From this course, I expect to learn how to vie...</td>\n",
              "      <td>To become a Data Analyst</td>\n",
              "      <td>LLM and Deep Learning</td>\n",
              "    </tr>\n",
              "  </tbody>\n",
              "</table>\n",
              "</div>\n",
              "    <div class=\"colab-df-buttons\">\n",
              "\n",
              "  <div class=\"colab-df-container\">\n",
              "    <button class=\"colab-df-convert\" onclick=\"convertToInteractive('df-af72d823-d40b-440f-91a0-4b2cc5e34deb')\"\n",
              "            title=\"Convert this dataframe to an interactive table.\"\n",
              "            style=\"display:none;\">\n",
              "\n",
              "  <svg xmlns=\"http://www.w3.org/2000/svg\" height=\"24px\" viewBox=\"0 -960 960 960\">\n",
              "    <path d=\"M120-120v-720h720v720H120Zm60-500h600v-160H180v160Zm220 220h160v-160H400v160Zm0 220h160v-160H400v160ZM180-400h160v-160H180v160Zm440 0h160v-160H620v160ZM180-180h160v-160H180v160Zm440 0h160v-160H620v160Z\"/>\n",
              "  </svg>\n",
              "    </button>\n",
              "\n",
              "  <style>\n",
              "    .colab-df-container {\n",
              "      display:flex;\n",
              "      gap: 12px;\n",
              "    }\n",
              "\n",
              "    .colab-df-convert {\n",
              "      background-color: #E8F0FE;\n",
              "      border: none;\n",
              "      border-radius: 50%;\n",
              "      cursor: pointer;\n",
              "      display: none;\n",
              "      fill: #1967D2;\n",
              "      height: 32px;\n",
              "      padding: 0 0 0 0;\n",
              "      width: 32px;\n",
              "    }\n",
              "\n",
              "    .colab-df-convert:hover {\n",
              "      background-color: #E2EBFA;\n",
              "      box-shadow: 0px 1px 2px rgba(60, 64, 67, 0.3), 0px 1px 3px 1px rgba(60, 64, 67, 0.15);\n",
              "      fill: #174EA6;\n",
              "    }\n",
              "\n",
              "    .colab-df-buttons div {\n",
              "      margin-bottom: 4px;\n",
              "    }\n",
              "\n",
              "    [theme=dark] .colab-df-convert {\n",
              "      background-color: #3B4455;\n",
              "      fill: #D2E3FC;\n",
              "    }\n",
              "\n",
              "    [theme=dark] .colab-df-convert:hover {\n",
              "      background-color: #434B5C;\n",
              "      box-shadow: 0px 1px 3px 1px rgba(0, 0, 0, 0.15);\n",
              "      filter: drop-shadow(0px 1px 2px rgba(0, 0, 0, 0.3));\n",
              "      fill: #FFFFFF;\n",
              "    }\n",
              "  </style>\n",
              "\n",
              "    <script>\n",
              "      const buttonEl =\n",
              "        document.querySelector('#df-af72d823-d40b-440f-91a0-4b2cc5e34deb button.colab-df-convert');\n",
              "      buttonEl.style.display =\n",
              "        google.colab.kernel.accessAllowed ? 'block' : 'none';\n",
              "\n",
              "      async function convertToInteractive(key) {\n",
              "        const element = document.querySelector('#df-af72d823-d40b-440f-91a0-4b2cc5e34deb');\n",
              "        const dataTable =\n",
              "          await google.colab.kernel.invokeFunction('convertToInteractive',\n",
              "                                                    [key], {});\n",
              "        if (!dataTable) return;\n",
              "\n",
              "        const docLinkHtml = 'Like what you see? Visit the ' +\n",
              "          '<a target=\"_blank\" href=https://colab.research.google.com/notebooks/data_table.ipynb>data table notebook</a>'\n",
              "          + ' to learn more about interactive tables.';\n",
              "        element.innerHTML = '';\n",
              "        dataTable['output_type'] = 'display_data';\n",
              "        await google.colab.output.renderOutput(dataTable, element);\n",
              "        const docLink = document.createElement('div');\n",
              "        docLink.innerHTML = docLinkHtml;\n",
              "        element.appendChild(docLink);\n",
              "      }\n",
              "    </script>\n",
              "  </div>\n",
              "\n",
              "\n",
              "<div id=\"df-afe7b617-7f56-47c2-aecc-42fb93094fbc\">\n",
              "  <button class=\"colab-df-quickchart\" onclick=\"quickchart('df-afe7b617-7f56-47c2-aecc-42fb93094fbc')\"\n",
              "            title=\"Suggest charts\"\n",
              "            style=\"display:none;\">\n",
              "\n",
              "<svg xmlns=\"http://www.w3.org/2000/svg\" height=\"24px\"viewBox=\"0 0 24 24\"\n",
              "     width=\"24px\">\n",
              "    <g>\n",
              "        <path d=\"M19 3H5c-1.1 0-2 .9-2 2v14c0 1.1.9 2 2 2h14c1.1 0 2-.9 2-2V5c0-1.1-.9-2-2-2zM9 17H7v-7h2v7zm4 0h-2V7h2v10zm4 0h-2v-4h2v4z\"/>\n",
              "    </g>\n",
              "</svg>\n",
              "  </button>\n",
              "\n",
              "<style>\n",
              "  .colab-df-quickchart {\n",
              "      --bg-color: #E8F0FE;\n",
              "      --fill-color: #1967D2;\n",
              "      --hover-bg-color: #E2EBFA;\n",
              "      --hover-fill-color: #174EA6;\n",
              "      --disabled-fill-color: #AAA;\n",
              "      --disabled-bg-color: #DDD;\n",
              "  }\n",
              "\n",
              "  [theme=dark] .colab-df-quickchart {\n",
              "      --bg-color: #3B4455;\n",
              "      --fill-color: #D2E3FC;\n",
              "      --hover-bg-color: #434B5C;\n",
              "      --hover-fill-color: #FFFFFF;\n",
              "      --disabled-bg-color: #3B4455;\n",
              "      --disabled-fill-color: #666;\n",
              "  }\n",
              "\n",
              "  .colab-df-quickchart {\n",
              "    background-color: var(--bg-color);\n",
              "    border: none;\n",
              "    border-radius: 50%;\n",
              "    cursor: pointer;\n",
              "    display: none;\n",
              "    fill: var(--fill-color);\n",
              "    height: 32px;\n",
              "    padding: 0;\n",
              "    width: 32px;\n",
              "  }\n",
              "\n",
              "  .colab-df-quickchart:hover {\n",
              "    background-color: var(--hover-bg-color);\n",
              "    box-shadow: 0 1px 2px rgba(60, 64, 67, 0.3), 0 1px 3px 1px rgba(60, 64, 67, 0.15);\n",
              "    fill: var(--button-hover-fill-color);\n",
              "  }\n",
              "\n",
              "  .colab-df-quickchart-complete:disabled,\n",
              "  .colab-df-quickchart-complete:disabled:hover {\n",
              "    background-color: var(--disabled-bg-color);\n",
              "    fill: var(--disabled-fill-color);\n",
              "    box-shadow: none;\n",
              "  }\n",
              "\n",
              "  .colab-df-spinner {\n",
              "    border: 2px solid var(--fill-color);\n",
              "    border-color: transparent;\n",
              "    border-bottom-color: var(--fill-color);\n",
              "    animation:\n",
              "      spin 1s steps(1) infinite;\n",
              "  }\n",
              "\n",
              "  @keyframes spin {\n",
              "    0% {\n",
              "      border-color: transparent;\n",
              "      border-bottom-color: var(--fill-color);\n",
              "      border-left-color: var(--fill-color);\n",
              "    }\n",
              "    20% {\n",
              "      border-color: transparent;\n",
              "      border-left-color: var(--fill-color);\n",
              "      border-top-color: var(--fill-color);\n",
              "    }\n",
              "    30% {\n",
              "      border-color: transparent;\n",
              "      border-left-color: var(--fill-color);\n",
              "      border-top-color: var(--fill-color);\n",
              "      border-right-color: var(--fill-color);\n",
              "    }\n",
              "    40% {\n",
              "      border-color: transparent;\n",
              "      border-right-color: var(--fill-color);\n",
              "      border-top-color: var(--fill-color);\n",
              "    }\n",
              "    60% {\n",
              "      border-color: transparent;\n",
              "      border-right-color: var(--fill-color);\n",
              "    }\n",
              "    80% {\n",
              "      border-color: transparent;\n",
              "      border-right-color: var(--fill-color);\n",
              "      border-bottom-color: var(--fill-color);\n",
              "    }\n",
              "    90% {\n",
              "      border-color: transparent;\n",
              "      border-bottom-color: var(--fill-color);\n",
              "    }\n",
              "  }\n",
              "</style>\n",
              "\n",
              "  <script>\n",
              "    async function quickchart(key) {\n",
              "      const quickchartButtonEl =\n",
              "        document.querySelector('#' + key + ' button');\n",
              "      quickchartButtonEl.disabled = true;  // To prevent multiple clicks.\n",
              "      quickchartButtonEl.classList.add('colab-df-spinner');\n",
              "      try {\n",
              "        const charts = await google.colab.kernel.invokeFunction(\n",
              "            'suggestCharts', [key], {});\n",
              "      } catch (error) {\n",
              "        console.error('Error during call to suggestCharts:', error);\n",
              "      }\n",
              "      quickchartButtonEl.classList.remove('colab-df-spinner');\n",
              "      quickchartButtonEl.classList.add('colab-df-quickchart-complete');\n",
              "    }\n",
              "    (() => {\n",
              "      let quickchartButtonEl =\n",
              "        document.querySelector('#df-afe7b617-7f56-47c2-aecc-42fb93094fbc button');\n",
              "      quickchartButtonEl.style.display =\n",
              "        google.colab.kernel.accessAllowed ? 'block' : 'none';\n",
              "    })();\n",
              "  </script>\n",
              "</div>\n",
              "\n",
              "    </div>\n",
              "  </div>\n"
            ],
            "application/vnd.google.colaboratory.intrinsic+json": {
              "type": "dataframe",
              "repr_error": "0"
            }
          },
          "metadata": {},
          "execution_count": 5
        }
      ]
    },
    {
      "cell_type": "markdown",
      "source": [
        "## Step 2 - Explore Student Age"
      ],
      "metadata": {
        "id": "TjrQ5ssodG3y"
      }
    },
    {
      "cell_type": "code",
      "source": [
        "yob_list = list(df[\"8. My Birth Year\"])\n",
        "yob_list"
      ],
      "metadata": {
        "id": "kOGI8EVMdOAR",
        "outputId": "6db96430-c060-422e-f124-333a069c429f",
        "colab": {
          "base_uri": "https://localhost:8080/"
        }
      },
      "execution_count": 6,
      "outputs": [
        {
          "output_type": "execute_result",
          "data": {
            "text/plain": [
              "['2000',\n",
              " '2002',\n",
              " '1997',\n",
              " '7/21/1999',\n",
              " '2000',\n",
              " '2001',\n",
              " '2000',\n",
              " '1999',\n",
              " '1978',\n",
              " '2000',\n",
              " '1999',\n",
              " '11/17/2000',\n",
              " '1998',\n",
              " '3/1/2001',\n",
              " '2001',\n",
              " '2000',\n",
              " '2002',\n",
              " '1992',\n",
              " '12/6/2001',\n",
              " '1997',\n",
              " '1999']"
            ]
          },
          "metadata": {},
          "execution_count": 6
        }
      ]
    },
    {
      "cell_type": "code",
      "source": [
        "cleansed_yob_list = []  # Empty list\n",
        "cleansed_yob_list       # the same as print(cleansed_yob)"
      ],
      "metadata": {
        "id": "ZOnS4oH4eJXX",
        "outputId": "eb5c4a23-ddbf-447e-f831-f42dbba2b8a5",
        "colab": {
          "base_uri": "https://localhost:8080/"
        }
      },
      "execution_count": 7,
      "outputs": [
        {
          "output_type": "execute_result",
          "data": {
            "text/plain": [
              "[]"
            ]
          },
          "metadata": {},
          "execution_count": 7
        }
      ]
    },
    {
      "cell_type": "code",
      "source": [
        "for yob in yob_list:\n",
        "    cleansed_yob = yob[-4:]\n",
        "    cleansed_yob_list.append(cleansed_yob)\n",
        "\n",
        "cleansed_yob_list"
      ],
      "metadata": {
        "id": "7MfyIRdMeiJW",
        "outputId": "c5c0bb11-7cf6-448d-c4e7-c71c604f6180",
        "colab": {
          "base_uri": "https://localhost:8080/"
        }
      },
      "execution_count": 8,
      "outputs": [
        {
          "output_type": "execute_result",
          "data": {
            "text/plain": [
              "['2000',\n",
              " '2002',\n",
              " '1997',\n",
              " '1999',\n",
              " '2000',\n",
              " '2001',\n",
              " '2000',\n",
              " '1999',\n",
              " '1978',\n",
              " '2000',\n",
              " '1999',\n",
              " '2000',\n",
              " '1998',\n",
              " '2001',\n",
              " '2001',\n",
              " '2000',\n",
              " '2002',\n",
              " '1992',\n",
              " '2001',\n",
              " '1997',\n",
              " '1999']"
            ]
          },
          "metadata": {},
          "execution_count": 8
        }
      ]
    },
    {
      "cell_type": "code",
      "source": [
        "age_list = []\n",
        "\n",
        "for yob in cleansed_yob_list:\n",
        "    age = 2024 - int(yob)\n",
        "    age_list.append(age)\n",
        "\n",
        "age_list"
      ],
      "metadata": {
        "id": "jwvLHigogjb8",
        "outputId": "3b361846-2f6a-4a45-8f28-cae6f8d92e00",
        "colab": {
          "base_uri": "https://localhost:8080/"
        }
      },
      "execution_count": 9,
      "outputs": [
        {
          "output_type": "execute_result",
          "data": {
            "text/plain": [
              "[24,\n",
              " 22,\n",
              " 27,\n",
              " 25,\n",
              " 24,\n",
              " 23,\n",
              " 24,\n",
              " 25,\n",
              " 46,\n",
              " 24,\n",
              " 25,\n",
              " 24,\n",
              " 26,\n",
              " 23,\n",
              " 23,\n",
              " 24,\n",
              " 22,\n",
              " 32,\n",
              " 23,\n",
              " 27,\n",
              " 25]"
            ]
          },
          "metadata": {},
          "execution_count": 9
        }
      ]
    },
    {
      "cell_type": "code",
      "source": [
        "min(age_list)"
      ],
      "metadata": {
        "id": "s_1SOG31lxxO",
        "outputId": "432db92c-f9bd-4e0b-d459-4a138a0b80d2",
        "colab": {
          "base_uri": "https://localhost:8080/"
        }
      },
      "execution_count": 10,
      "outputs": [
        {
          "output_type": "execute_result",
          "data": {
            "text/plain": [
              "22"
            ]
          },
          "metadata": {},
          "execution_count": 10
        }
      ]
    },
    {
      "cell_type": "code",
      "source": [
        "max(age_list)"
      ],
      "metadata": {
        "id": "yOZVnLvlmPj6",
        "outputId": "ce12e89f-10c9-41d7-d701-293dadd168ec",
        "colab": {
          "base_uri": "https://localhost:8080/"
        }
      },
      "execution_count": 11,
      "outputs": [
        {
          "output_type": "execute_result",
          "data": {
            "text/plain": [
              "46"
            ]
          },
          "metadata": {},
          "execution_count": 11
        }
      ]
    },
    {
      "cell_type": "code",
      "source": [
        "total_age = 0\n",
        "\n",
        "for age in age_list:\n",
        "    total_age = total_age + age\n",
        "\n",
        "total_age"
      ],
      "metadata": {
        "id": "2jcN-JPKnX4W",
        "outputId": "bbd5cb61-eee1-401b-ade0-0ecf041e0791",
        "colab": {
          "base_uri": "https://localhost:8080/"
        }
      },
      "execution_count": 12,
      "outputs": [
        {
          "output_type": "execute_result",
          "data": {
            "text/plain": [
              "538"
            ]
          },
          "metadata": {},
          "execution_count": 12
        }
      ]
    },
    {
      "cell_type": "code",
      "source": [
        "average = total_age / len(age_list)\n",
        "\n",
        "round(average)"
      ],
      "metadata": {
        "id": "g_mZ6XoIn6ZV",
        "outputId": "5ec5943b-628e-458d-c4a1-d428f3675e57",
        "colab": {
          "base_uri": "https://localhost:8080/"
        }
      },
      "execution_count": 13,
      "outputs": [
        {
          "output_type": "execute_result",
          "data": {
            "text/plain": [
              "26"
            ]
          },
          "metadata": {},
          "execution_count": 13
        }
      ]
    },
    {
      "cell_type": "code",
      "source": [
        "total_age = 0\n",
        "\n",
        "for age in age_list:\n",
        "    if age >= 35 or age <= 22:\n",
        "        print(\"Age\", age, \"is skipped\")\n",
        "    else:\n",
        "       total_age = total_age + age\n",
        "\n",
        "print(\"Total age is\", total_age)\n",
        "\n",
        "average = round(total_age / len(age_list))\n",
        "\n",
        "print(\"Average is\", average)"
      ],
      "metadata": {
        "id": "aCWjVflFozdN",
        "outputId": "1d65284d-d6bf-4dc0-8afa-51756398afee",
        "colab": {
          "base_uri": "https://localhost:8080/"
        }
      },
      "execution_count": 14,
      "outputs": [
        {
          "output_type": "stream",
          "name": "stdout",
          "text": [
            "Age 22 is skipped\n",
            "Age 46 is skipped\n",
            "Age 22 is skipped\n",
            "Total age is 448\n",
            "Average is 21\n"
          ]
        }
      ]
    },
    {
      "cell_type": "code",
      "source": [
        "total_age = 0\n",
        "\n",
        "for age in age_list:\n",
        "    if age >= 35 or age <= 22:\n",
        "        print(\"Age\", age, \"is skipped\")\n",
        "#        continue\n",
        "\n",
        "    total_age = total_age + age   # the age out of range was not skipped without the \"continue\"\n",
        "\n",
        "print(\"Total age is\", total_age)\n",
        "\n",
        "average = round(total_age / len(age_list))\n",
        "\n",
        "print(\"Average is\", average)"
      ],
      "metadata": {
        "id": "k9Gym6BspNbT",
        "outputId": "f2340037-4ee6-46d2-bbfa-71a694f5c493",
        "colab": {
          "base_uri": "https://localhost:8080/"
        }
      },
      "execution_count": 15,
      "outputs": [
        {
          "output_type": "stream",
          "name": "stdout",
          "text": [
            "Age 22 is skipped\n",
            "Age 46 is skipped\n",
            "Age 22 is skipped\n",
            "Total age is 538\n",
            "Average is 26\n"
          ]
        }
      ]
    },
    {
      "cell_type": "markdown",
      "source": [
        "## Step 3 - Explore Educational Background\n",
        "\n",
        "Compute the distribution of student edu background\n"
      ],
      "metadata": {
        "id": "_MdrdfqErhCn"
      }
    },
    {
      "cell_type": "code",
      "source": [
        "edu_list = list(df[\"1. My primary educational background\"])\n",
        "\n",
        "edu_list"
      ],
      "metadata": {
        "id": "S-HBobIHrmSX",
        "outputId": "2aac5f8c-54bb-4f00-dc9d-ed0b0f8677b1",
        "colab": {
          "base_uri": "https://localhost:8080/"
        }
      },
      "execution_count": 16,
      "outputs": [
        {
          "output_type": "execute_result",
          "data": {
            "text/plain": [
              "['STEM (Science, Technology, Engineering, Math)',\n",
              " 'STEM (Science, Technology, Engineering, Math)',\n",
              " 'STEM (Science, Technology, Engineering, Math)',\n",
              " 'STEM (Science, Technology, Engineering, Math)',\n",
              " 'STEM (Science, Technology, Engineering, Math)',\n",
              " 'STEM (Science, Technology, Engineering, Math)',\n",
              " 'STEM (Science, Technology, Engineering, Math)',\n",
              " 'STEM (Science, Technology, Engineering, Math)',\n",
              " 'STEM (Science, Technology, Engineering, Math)',\n",
              " 'STEM (Science, Technology, Engineering, Math)',\n",
              " 'STEM (Science, Technology, Engineering, Math)',\n",
              " 'STEM (Science, Technology, Engineering, Math)',\n",
              " 'Social Science (History, Philosophy, Education, etc. )',\n",
              " 'STEM (Science, Technology, Engineering, Math)',\n",
              " 'STEM (Science, Technology, Engineering, Math)',\n",
              " 'STEM (Science, Technology, Engineering, Math)',\n",
              " 'STEM (Science, Technology, Engineering, Math)',\n",
              " 'Criminal Justice with some Software Engineering courses',\n",
              " 'STEM (Science, Technology, Engineering, Math)',\n",
              " 'STEM (Science, Technology, Engineering, Math)',\n",
              " 'STEM (Science, Technology, Engineering, Math)']"
            ]
          },
          "metadata": {},
          "execution_count": 16
        }
      ]
    },
    {
      "cell_type": "code",
      "source": [
        "# Write you code\n",
        "edu_dist = {}\n",
        "\n",
        "for edu in edu_list:\n",
        "  if edu in edu_dist:\n",
        "    edu_dist[edu] = edu_dist[edu] + 1\n",
        "  else:\n",
        "    edu_dist[edu] = 1\n",
        "\n",
        "edu_dist"
      ],
      "metadata": {
        "id": "G-VIRcHWtQ2q",
        "colab": {
          "base_uri": "https://localhost:8080/"
        },
        "outputId": "9296b1ec-8845-4254-9488-c51c65036514"
      },
      "execution_count": 22,
      "outputs": [
        {
          "output_type": "execute_result",
          "data": {
            "text/plain": [
              "{'STEM (Science, Technology, Engineering, Math)': 19,\n",
              " 'Social Science (History, Philosophy, Education, etc. )': 1,\n",
              " 'Criminal Justice with some Software Engineering courses': 1}"
            ]
          },
          "metadata": {},
          "execution_count": 22
        }
      ]
    },
    {
      "cell_type": "markdown",
      "source": [
        "## Step 4 - Explore Job Function\n",
        "\n",
        "Compute the distribution of student job function. Summary."
      ],
      "metadata": {
        "id": "69c4wVXEsTAz"
      }
    },
    {
      "cell_type": "code",
      "source": [
        "job_list = list(df[\"2. My primary job function\"])\n",
        "\n",
        "job_list"
      ],
      "metadata": {
        "id": "VEQbQZyusNZI",
        "outputId": "dbb38495-f625-4339-f8cd-b4fbc2cf0604",
        "colab": {
          "base_uri": "https://localhost:8080/"
        }
      },
      "execution_count": 18,
      "outputs": [
        {
          "output_type": "execute_result",
          "data": {
            "text/plain": [
              "['Full-time Student',\n",
              " 'Full-time Student',\n",
              " 'Full-time Student',\n",
              " 'Technology/engineering-oriented',\n",
              " 'Full-time Student',\n",
              " 'Full-time Student',\n",
              " 'Full-time Student',\n",
              " 'Full-time Student',\n",
              " 'Business/service-oriented',\n",
              " 'Full-time Student',\n",
              " 'Full-time Student',\n",
              " 'Full-time Student',\n",
              " 'Business/service-oriented',\n",
              " 'Full-time Student',\n",
              " 'Full-time Student',\n",
              " 'Full-time Student',\n",
              " 'Full-time Student',\n",
              " 'Full-time Student',\n",
              " 'Full-time Student',\n",
              " 'Full-time Student',\n",
              " 'Technology/engineering-oriented']"
            ]
          },
          "metadata": {},
          "execution_count": 18
        }
      ]
    },
    {
      "cell_type": "code",
      "source": [
        "# Start writing your code\n",
        "\n",
        "job_dist = {}\n",
        "\n",
        "for job in job_list:\n",
        "  if job in job_dist:\n",
        "    job_dist[job] = job_dist[job] + 1\n",
        "  else:\n",
        "    job_dist[job] = 1\n",
        "\n",
        "job_dist"
      ],
      "metadata": {
        "id": "Lp57b1eqtLhw",
        "colab": {
          "base_uri": "https://localhost:8080/"
        },
        "outputId": "1f256f1f-c008-4f87-90f4-bf435c89db57"
      },
      "execution_count": 19,
      "outputs": [
        {
          "output_type": "execute_result",
          "data": {
            "text/plain": [
              "{'Full-time Student': 17,\n",
              " 'Technology/engineering-oriented': 2,\n",
              " 'Business/service-oriented': 2}"
            ]
          },
          "metadata": {},
          "execution_count": 19
        }
      ]
    },
    {
      "cell_type": "markdown",
      "source": [
        "## Step 5 - Anything you re interested to find out\n",
        "\n",
        "### Checking the distribution of familiarity of github"
      ],
      "metadata": {
        "id": "GbaPBsxKtEjo"
      }
    },
    {
      "cell_type": "code",
      "source": [
        "git_fam_list = list(df[\"6. My Familarity with GitHub\"])\n",
        "\n",
        "git_fam_dist = {}\n",
        "\n",
        "for item in git_fam_list:\n",
        "  if item in git_fam_dist:\n",
        "    git_fam_dist[item] = git_fam_dist[item] + 1\n",
        "  else:\n",
        "    git_fam_dist[item] = 1\n",
        "\n",
        "git_fam_dist\n",
        "\n",
        "# git_fam_list"
      ],
      "metadata": {
        "colab": {
          "base_uri": "https://localhost:8080/"
        },
        "id": "f4thV8TBAa85",
        "outputId": "652d9201-7aa3-4de5-fd03-b668aadae4d2"
      },
      "execution_count": 20,
      "outputs": [
        {
          "output_type": "execute_result",
          "data": {
            "text/plain": [
              "{'I use GitHub occasionally': 13,\n",
              " 'I use GitHub regularly': 4,\n",
              " \"I don't use GitHub\": 4}"
            ]
          },
          "metadata": {},
          "execution_count": 20
        }
      ]
    },
    {
      "cell_type": "code",
      "source": [
        "x = list(range(0, 21))\n",
        "x"
      ],
      "metadata": {
        "id": "KmiqxvbvBxra",
        "outputId": "eb5a340e-a4bc-4c2d-dbd5-d336030c6919",
        "colab": {
          "base_uri": "https://localhost:8080/"
        }
      },
      "execution_count": 24,
      "outputs": [
        {
          "output_type": "execute_result",
          "data": {
            "text/plain": [
              "[0, 1, 2, 3, 4, 5, 6, 7, 8, 9, 10, 11, 12, 13, 14, 15, 16, 17, 18, 19, 20]"
            ]
          },
          "metadata": {},
          "execution_count": 24
        }
      ]
    },
    {
      "cell_type": "code",
      "source": [
        "y = []\n",
        "\n",
        "for i in x:\n",
        "  if i % 2 == 0:\n",
        "    y.append(i)\n",
        "\n",
        "y"
      ],
      "metadata": {
        "id": "NxqivjH3eY33",
        "outputId": "1b8d3c1a-15d4-4fd8-c4ef-c2fec18ef2d4",
        "colab": {
          "base_uri": "https://localhost:8080/"
        }
      },
      "execution_count": 25,
      "outputs": [
        {
          "output_type": "execute_result",
          "data": {
            "text/plain": [
              "[0, 2, 4, 6, 8, 10, 12, 14, 16, 18, 20]"
            ]
          },
          "metadata": {},
          "execution_count": 25
        }
      ]
    },
    {
      "cell_type": "markdown",
      "source": [
        "From here on is Jay's in-class notes\n",
        "\n",
        " 9/11/2024"
      ],
      "metadata": {
        "id": "qSZryBF1gxrX"
      }
    },
    {
      "cell_type": "code",
      "source": [
        "x = {\n",
        "    \"Bananna\" : \"golden\",\n",
        "    \"Apple\" : \"red\",\n",
        "    \"Cucumber\" : \"green\",\n",
        "    \"Blue Berry\" : \"blue\"\n",
        "}"
      ],
      "metadata": {
        "id": "TlgA6pBPg81q"
      },
      "execution_count": 28,
      "outputs": []
    },
    {
      "cell_type": "code",
      "source": [
        "x[\"Apple\"]"
      ],
      "metadata": {
        "id": "qmWC9MVMhhfa",
        "outputId": "ec31ecdb-c1c2-4840-fc45-85d521ef25f9",
        "colab": {
          "base_uri": "https://localhost:8080/",
          "height": 36
        }
      },
      "execution_count": 30,
      "outputs": [
        {
          "output_type": "execute_result",
          "data": {
            "text/plain": [
              "'red'"
            ],
            "application/vnd.google.colaboratory.intrinsic+json": {
              "type": "string"
            }
          },
          "metadata": {},
          "execution_count": 30
        }
      ]
    },
    {
      "cell_type": "code",
      "source": [],
      "metadata": {
        "id": "-R9rRN5ih3eT"
      },
      "execution_count": 32,
      "outputs": []
    },
    {
      "cell_type": "code",
      "source": [
        "basket = [\"Apple\", \"Banana\", \"Banana\", \"Blue Berry\", \"Apple\", \"Cucumber\", \"Apple\"]\n",
        "\n",
        "y = {}\n",
        "\n",
        "\n",
        "for i in basket:\n",
        "    if i in y:\n",
        "        y[i]  += 1\n",
        "#    y[thing] = y[thing] + 1 This is the same as the above\n",
        "    else:\n",
        "        y[i] = 1\n",
        "\n",
        "y"
      ],
      "metadata": {
        "id": "-gCIXkI5iWed",
        "outputId": "bd527242-83c4-498e-c748-9b3b8f5e8a0d",
        "colab": {
          "base_uri": "https://localhost:8080/"
        }
      },
      "execution_count": 36,
      "outputs": [
        {
          "output_type": "execute_result",
          "data": {
            "text/plain": [
              "{'Apple': 3, 'Banana': 2, 'Blue Berry': 1, 'Cucumber': 1}"
            ]
          },
          "metadata": {},
          "execution_count": 36
        }
      ]
    }
  ]
}