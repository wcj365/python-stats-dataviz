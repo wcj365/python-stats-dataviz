{
  "nbformat": 4,
  "nbformat_minor": 0,
  "metadata": {
    "kernelspec": {
      "display_name": "Python 3",
      "language": "python",
      "name": "python3"
    },
    "language_info": {
      "codemirror_mode": {
        "name": "ipython",
        "version": 3
      },
      "file_extension": ".py",
      "mimetype": "text/x-python",
      "name": "python",
      "nbconvert_exporter": "python",
      "pygments_lexer": "ipython3",
      "version": "3.7.4"
    },
    "colab": {
      "provenance": [],
      "include_colab_link": true
    }
  },
  "cells": [
    {
      "cell_type": "markdown",
      "metadata": {
        "id": "view-in-github",
        "colab_type": "text"
      },
      "source": [
        "<a href=\"https://colab.research.google.com/github/wcj365/python-stats-dataviz/blob/master/lectures/14_Hypothesis_Testing.ipynb\" target=\"_parent\"><img src=\"https://colab.research.google.com/assets/colab-badge.svg\" alt=\"Open In Colab\"/></a>"
      ]
    },
    {
      "cell_type": "markdown",
      "metadata": {
        "id": "Oa4c8ATJFdW7"
      },
      "source": [
        "## 14 - Hypothesis Testing\n",
        "\n",
        "Updated - today\n",
        "\n",
        "**Null Hypothesis:** Status Quo\n",
        "\n",
        "**Alternative Hypothesis:** Challenging the status quo\n",
        "\n",
        "### One-Sample t-Test\n",
        "A one-sample t-test checks whether a sample mean differs from the population mean. \n",
        "\n",
        "### Two-Sample t-Test\n",
        "A two-sample t-test investigates whether the means of two independent data samples differ from one another. In a two-sample test, the null hypothesis is that the means of both groups are the same."
      ]
    },
    {
      "cell_type": "code",
      "metadata": {
        "id": "lRMLVL2SFdW-"
      },
      "source": [
        "import math\n",
        "import scipy.stats as stats\n",
        "import numpy as np"
      ],
      "execution_count": null,
      "outputs": []
    },
    {
      "cell_type": "code",
      "metadata": {
        "id": "yMZDCdtfFdXL",
        "colab": {
          "base_uri": "https://localhost:8080/"
        },
        "outputId": "575ef5fc-0293-4ea0-d7fc-949175340a1a"
      },
      "source": [
        "# Generate three random samples from normal distribution.\n",
        "# rvs stands for \"random variable sample\"\n",
        "# The inputs are (population mean, population standard deviation, sample size)\n",
        "np.random.seed(seed=250)\n",
        "sample_A = stats.norm.rvs(10000, 1000, 50)\n",
        "np.random.seed(seed=300)\n",
        "sample_B = stats.norm.rvs(1000, 100, 50)\n",
        "np.random.seed(seed=400)\n",
        "sample_C = stats.norm.rvs(1000, 100, 50)\n",
        "\n",
        "print(\"Sample A:\\n\\n\", sample_A, end=\"\\n\\n\")\n",
        "print(\"Sample B: \\n\\n\", sample_B, end=\"\\n\\n\")\n",
        "print(\"Sample C: \\n\\n\", sample_C)"
      ],
      "execution_count": null,
      "outputs": [
        {
          "output_type": "stream",
          "name": "stdout",
          "text": [
            "Sample A:\n",
            "\n",
            " [ 9299.87839497  9121.61369651 11273.18096915  8468.84367625\n",
            " 11363.56887993 10900.52447749  8201.91619748 10868.97991022\n",
            " 10627.28352542 11256.68481088  8960.52538184 10014.74714654\n",
            " 10957.11006294  8890.66391574 10592.49721674  9979.42334971\n",
            " 10335.5610067   9078.59451229 10076.80139397  9719.81012784\n",
            " 11400.93603221 10401.88288405 10529.75604803  8474.19881925\n",
            "  8885.46552282  9780.77318685 10784.06708957 10452.01671463\n",
            "  9059.3531639   9888.40592509 11603.25236528  9875.11545266\n",
            "  9278.77528989 10542.76434024  8829.47607725 10590.605351\n",
            " 10407.13267933  9813.30494293 10987.78635357  8718.78226226\n",
            " 10309.66017241 10471.2002314  10556.43823264 10040.87867831\n",
            "  9602.76128026  9827.43486475  8885.24668895  9455.88401749\n",
            " 10301.37148104  9559.34162071]\n",
            "\n",
            "Sample B: \n",
            "\n",
            " [ 851.48296373  973.97952481  857.54346303  910.86010695 1076.11633545\n",
            "  930.1242738   960.33503496 1124.37873612 1007.45184628  967.70519662\n",
            " 1146.14716267 1124.18213857 1025.94194149 1107.16883683  986.97819762\n",
            " 1188.57842644  929.46412262 1033.5575403  1056.87524856  908.3265915\n",
            "  894.02395019  808.10279868 1167.97363979  886.84201308  883.11904616\n",
            "  969.89313624 1324.43110265 1160.94649992  867.64614086  898.402631\n",
            "  914.05883663 1109.13546997  995.21505006 1016.77189522 1165.83265402\n",
            "  994.81800691  892.99550388 1001.25477699  953.3362506  1113.73683405\n",
            " 1071.87431892  940.28621057  923.50378034  916.47120452 1122.96260468\n",
            "  976.38677764 1135.39893582 1088.99564336 1097.62837434 1073.76734187]\n",
            "\n",
            "Sample C: \n",
            "\n",
            " [ 886.94294864 1069.62002336  956.77069008 1074.10203471  952.18628044\n",
            " 1138.60400758 1012.51799761 1114.88601013  764.97410015 1018.3292771\n",
            "  968.86144128  970.59338958 1040.00605095 1100.55004909 1050.16428604\n",
            "  999.93318137 1130.39716991 1107.33236469  948.46550398 1166.29002115\n",
            " 1055.18166842  942.05060261  915.11998309  958.91375769 1216.06249803\n",
            "  844.23011836 1013.48515982 1000.54538259 1064.65487528  940.7926623\n",
            " 1055.19243175 1137.83489679 1050.44696539  988.25483692  916.46355072\n",
            " 1130.23946732 1195.69602351 1057.73684427 1016.34955624 1060.33442181\n",
            "  939.8301552   941.3055474  1048.31137613 1064.79560408  926.6784548\n",
            " 1043.07566426 1063.16425451 1007.65031454 1025.29025246  921.67483271]\n"
          ]
        }
      ]
    },
    {
      "cell_type": "code",
      "metadata": {
        "id": "jBUetD5zFdXW",
        "colab": {
          "base_uri": "https://localhost:8080/"
        },
        "outputId": "95756edf-990a-4e7c-c9b8-76cd7556e81f"
      },
      "source": [
        "print(\"Sample mean of sample A =\", round(sample_A.mean(),2))\n",
        "print(\"Sample mean of sample B =\", round(sample_B.mean(),2))\n",
        "print(\"Sample mean of sample C =\", round(sample_C.mean(),2))"
      ],
      "execution_count": null,
      "outputs": [
        {
          "output_type": "stream",
          "name": "stdout",
          "text": [
            "Sample mean of sample A = 9986.05\n",
            "Sample mean of sample B = 1010.66\n",
            "Sample mean of sample C = 1020.26\n"
          ]
        }
      ]
    },
    {
      "cell_type": "markdown",
      "metadata": {
        "id": "mD3OT-MNFdXd"
      },
      "source": [
        "### One Sample t-Test\n",
        "\n",
        "H0: the mean of the population that sample A drawn from is 0\n",
        "\n",
        "Ha: the mean of the population that sample A drawn from is not 0\n"
      ]
    },
    {
      "cell_type": "code",
      "metadata": {
        "id": "V8tPHMoQFdXe",
        "colab": {
          "base_uri": "https://localhost:8080/"
        },
        "outputId": "8b2c7596-dc08-46f6-f1ff-39db4f2722ed"
      },
      "source": [
        "stats.ttest_1samp(sample_A, 0)"
      ],
      "execution_count": null,
      "outputs": [
        {
          "output_type": "execute_result",
          "data": {
            "text/plain": [
              "Ttest_1sampResult(statistic=81.49018333519955, pvalue=5.540905729236289e-54)"
            ]
          },
          "metadata": {},
          "execution_count": 9
        }
      ]
    },
    {
      "cell_type": "markdown",
      "metadata": {
        "id": "4WiqpIbZFdXl"
      },
      "source": [
        "p-value is the probability of having the sameple under the hull hypothesis.\n",
        "If the population mean is 0 (null hypothesis), then the chance for the sample to have a mean of 9986.05 is very very slim - almost impossible."
      ]
    },
    {
      "cell_type": "markdown",
      "metadata": {
        "id": "uwT_PbNzHzQp"
      },
      "source": [
        "H0: the mean of population that sample A sampled from is 9500\n",
        "\n",
        "Ha: the mean of population that sample A sampled from is not 9500"
      ]
    },
    {
      "cell_type": "code",
      "metadata": {
        "id": "KGDLn7QdHllN",
        "colab": {
          "base_uri": "https://localhost:8080/"
        },
        "outputId": "c9c39dca-2392-48f4-cefe-e180301bd592"
      },
      "source": [
        "stats.ttest_1samp(sample_A, 9500)"
      ],
      "execution_count": null,
      "outputs": [
        {
          "output_type": "execute_result",
          "data": {
            "text/plain": [
              "Ttest_1sampResult(statistic=3.966328724225254, pvalue=0.00023756348939425685)"
            ]
          },
          "metadata": {},
          "execution_count": 10
        }
      ]
    },
    {
      "cell_type": "markdown",
      "metadata": {
        "id": "vYTPPfMuICSw"
      },
      "source": [
        "p-value is the probability of having the sameple under the hull hypothesis. If the population mean is 9500 (null hypothesis), then the chance for the sample to have a mean of 9986.05 is very slim."
      ]
    },
    {
      "cell_type": "markdown",
      "metadata": {
        "id": "bhtmZXyUdr0f"
      },
      "source": [
        "H0: the mean of population that sample A sampled from is 9950\n",
        "\n",
        "Ha: the mean of population that sample A sampled from is not 9950"
      ]
    },
    {
      "cell_type": "code",
      "metadata": {
        "id": "ZiOFqdgJIBYj",
        "colab": {
          "base_uri": "https://localhost:8080/"
        },
        "outputId": "89679c9f-a47e-44ba-c009-b8087862de44"
      },
      "source": [
        "stats.ttest_1samp(sample_A, 9950)"
      ],
      "execution_count": null,
      "outputs": [
        {
          "output_type": "execute_result",
          "data": {
            "text/plain": [
              "Ttest_1sampResult(statistic=0.2941461373896291, pvalue=0.769888706845073)"
            ]
          },
          "metadata": {},
          "execution_count": 11
        }
      ]
    },
    {
      "cell_type": "markdown",
      "metadata": {
        "id": "HMpjBJKUdieW"
      },
      "source": [
        "p-value is the probability of having the sameple under the hull hypothesis. If the population mean is 9950 (null hypothesis), then the chance for the sample to have a mean of 10185 is about 12.6%, not slim. So we are unable to reject the null hypothesis. So we would conclude that given the evidence (sample data) the population mean is likely to be 9950 (we are still not 100% certain)."
      ]
    },
    {
      "cell_type": "markdown",
      "metadata": {
        "id": "r4sFChvxrlPc"
      },
      "source": [
        "H0: the mean of population that sample A sampled from is 9900\n",
        "\n",
        "Ha: the mean of population that sample A sampled from is not 9900"
      ]
    },
    {
      "cell_type": "code",
      "metadata": {
        "colab": {
          "base_uri": "https://localhost:8080/"
        },
        "id": "Y4hanOAGraVO",
        "outputId": "bed1eaa1-1099-486f-91c3-dc74810e2afc"
      },
      "source": [
        "stats.ttest_1samp(sample_A, 9900)"
      ],
      "execution_count": null,
      "outputs": [
        {
          "output_type": "execute_result",
          "data": {
            "text/plain": [
              "Ttest_1sampResult(statistic=0.7021664248158096, pvalue=0.48589760215283406)"
            ]
          },
          "metadata": {},
          "execution_count": 12
        }
      ]
    },
    {
      "cell_type": "markdown",
      "metadata": {
        "id": "U7K0BHJSFdXm"
      },
      "source": [
        "### Two Sample Test - sample A vs sample B\n",
        "\n",
        "H0: The populations that sample A and B were sampled from have the same mean\n",
        "\n",
        "Ha: The populations that sample A and B were sampled from have different means"
      ]
    },
    {
      "cell_type": "code",
      "metadata": {
        "id": "1_tAewhhFdXn",
        "colab": {
          "base_uri": "https://localhost:8080/"
        },
        "outputId": "fee46eff-ae83-4338-bd2a-885b29fd4a89"
      },
      "source": [
        "stats.ttest_ind(sample_A,sample_B)"
      ],
      "execution_count": null,
      "outputs": [
        {
          "output_type": "execute_result",
          "data": {
            "text/plain": [
              "Ttest_indResult(statistic=72.6611958544629, pvalue=4.788266360211021e-87)"
            ]
          },
          "metadata": {},
          "execution_count": 13
        }
      ]
    },
    {
      "cell_type": "markdown",
      "metadata": {
        "id": "RYXUGMhhFdXr"
      },
      "source": [
        "With very small tiny p-value, we reject the null hypothesis and accept the alternative hypothesis."
      ]
    },
    {
      "cell_type": "markdown",
      "metadata": {
        "id": "OnmnctInFdXs"
      },
      "source": [
        "### Two Sample Test - sample B vs C\n",
        "\n",
        "H0: The populations that sample B and C were sampled from have the same mean\n",
        "\n",
        "Ha: The populations that sample B and C were sampled from have different means"
      ]
    },
    {
      "cell_type": "code",
      "metadata": {
        "id": "Dms6WRlQFdXt",
        "colab": {
          "base_uri": "https://localhost:8080/"
        },
        "outputId": "a9dfa272-5aba-4fb6-cfff-e7e938422ce1"
      },
      "source": [
        "stats.ttest_ind(sample_B,sample_C)"
      ],
      "execution_count": null,
      "outputs": [
        {
          "output_type": "execute_result",
          "data": {
            "text/plain": [
              "Ttest_indResult(statistic=-0.4796162818907282, pvalue=0.632568913027603)"
            ]
          },
          "metadata": {},
          "execution_count": 14
        }
      ]
    },
    {
      "cell_type": "markdown",
      "metadata": {
        "id": "oHmrR_SaFdXx"
      },
      "source": [
        "With very large p-value, we are unable to reject the null hypothesis. So we accept the null hypothesis. We have enough evidence to believe sample B and C were drawn from populations with the same mean."
      ]
    },
    {
      "cell_type": "markdown",
      "metadata": {
        "id": "eOYq73gpFdXy"
      },
      "source": [
        "### Two Sample Test - sample D vs E \n",
        "\n",
        "Let's make the population means different (1000 vs 1005)\n",
        "\n",
        "- H0: The populations that sample D and E were sampled from have the same mean\n",
        "- Ha: The populations that sample D and E were sampled from have different means"
      ]
    },
    {
      "cell_type": "code",
      "metadata": {
        "id": "XwqyXgTmFdXz",
        "colab": {
          "base_uri": "https://localhost:8080/"
        },
        "outputId": "983963ea-f5e3-4772-a047-e293319b367b"
      },
      "source": [
        "for i in range(10):\n",
        "\n",
        "    #np.random.seed(seed=250)\n",
        "    sample_D = stats.norm.rvs(1000, 100, 5000)\n",
        "    #np.random.seed(seed=350)\n",
        "    sample_E = stats.norm.rvs(1015, 100, 5000)\n",
        "\n",
        "    #print(sample_D)\n",
        "    #print(sample_E)\n",
        "\n",
        "    #print(\"Sample mean of sample D =\", round(sample_D.mean(),2))\n",
        "    #print(\"Sample mean of sample E =\", round(sample_E.mean(),2))\n",
        "\n",
        "    print(\"Diff =\", round(sample_D.mean() - sample_E.mean(),2), stats.ttest_ind(sample_D, sample_E))"
      ],
      "execution_count": null,
      "outputs": [
        {
          "output_type": "stream",
          "name": "stdout",
          "text": [
            "Diff = -16.7 Ttest_indResult(statistic=-8.26434377859484, pvalue=1.5829445351178002e-16)\n",
            "Diff = -17.4 Ttest_indResult(statistic=-8.783470584168104, pvalue=1.8450647582108685e-18)\n",
            "Diff = -14.77 Ttest_indResult(statistic=-7.406100958211381, pvalue=1.4057162662104136e-13)\n",
            "Diff = -17.65 Ttest_indResult(statistic=-8.815803408671174, pvalue=1.3862843934834754e-18)\n",
            "Diff = -13.05 Ttest_indResult(statistic=-6.526739400240044, pvalue=7.047617504165845e-11)\n",
            "Diff = -16.33 Ttest_indResult(statistic=-8.12220459932874, pvalue=5.118467754934014e-16)\n",
            "Diff = -16.58 Ttest_indResult(statistic=-8.3824675701816, pvalue=5.881044740829616e-17)\n",
            "Diff = -17.98 Ttest_indResult(statistic=-8.978060384011565, pvalue=3.252105346592345e-19)\n",
            "Diff = -14.96 Ttest_indResult(statistic=-7.487488469175645, pvalue=7.613270256757389e-14)\n",
            "Diff = -13.26 Ttest_indResult(statistic=-6.6115377345470465, pvalue=3.997691762708448e-11)\n"
          ]
        }
      ]
    },
    {
      "cell_type": "markdown",
      "metadata": {
        "id": "F8l4lsL6FdX2"
      },
      "source": [
        "Still relatively large p-value, so unable to reject the null hypothesis. \n",
        "Even though the population means are different but the difference is not statistically significant.\n"
      ]
    },
    {
      "cell_type": "markdown",
      "metadata": {
        "id": "yGLtsuoIFdX3"
      },
      "source": [
        "### Two Sample Test - sample D vs E \n",
        "\n",
        "Let's make the population means somewhat more different (1000 vs 1010)\n",
        "\n",
        "H0: The populations that sample D and E were sampled from have the same mean\n",
        "Ha: The populations that sample D and E were sampled from have different means"
      ]
    },
    {
      "cell_type": "code",
      "metadata": {
        "id": "zgBe09SoFdX3",
        "colab": {
          "base_uri": "https://localhost:8080/"
        },
        "outputId": "280a3bae-c2c8-4db6-d190-f7f1f793af03"
      },
      "source": [
        "sample_D = stats.norm.rvs(1000, 100, 50)\n",
        "sample_E = stats.norm.rvs(1015, 100, 50)\n",
        "\n",
        "stats.ttest_ind(sample_D, sample_E)"
      ],
      "execution_count": null,
      "outputs": [
        {
          "output_type": "execute_result",
          "data": {
            "text/plain": [
              "Ttest_indResult(statistic=-0.23023251455235985, pvalue=0.818391006052364)"
            ]
          },
          "metadata": {},
          "execution_count": 11
        }
      ]
    },
    {
      "cell_type": "markdown",
      "metadata": {
        "id": "nX5k9y7MFdX8"
      },
      "source": [
        "The p-value is smaller but still greater than 0.05 (the standard used in social science research). We will not reject the null hypothesis. We conclude the populations are not significantly different."
      ]
    },
    {
      "cell_type": "markdown",
      "metadata": {
        "id": "Tj2D2tLuFdX9"
      },
      "source": [
        "### Two Sample Test - sample D vs E \n",
        "\n",
        "Let's make the population means even more different (1000 vs 1030)\n",
        "\n",
        "H0: The populations that sample D and E were sampled from have the same mean\n",
        "Ha: The populations that sample D and E were sampled from have different means"
      ]
    },
    {
      "cell_type": "code",
      "metadata": {
        "id": "ZEWy5azZFdX9",
        "colab": {
          "base_uri": "https://localhost:8080/"
        },
        "outputId": "b1a60f1a-53d8-4c6e-8d2d-ed1aaf5a711b"
      },
      "source": [
        "sample_D = stats.norm.rvs(1000, 100, 50)\n",
        "sample_E = stats.norm.rvs(1030, 100, 50)\n",
        "\n",
        "stats.ttest_ind(sample_D, sample_E)"
      ],
      "execution_count": null,
      "outputs": [
        {
          "output_type": "execute_result",
          "data": {
            "text/plain": [
              "Ttest_indResult(statistic=-1.4255466585372618, pvalue=0.15717665187640334)"
            ]
          },
          "metadata": {},
          "execution_count": 12
        }
      ]
    },
    {
      "cell_type": "markdown",
      "metadata": {
        "id": "sIw3ACs8FdYB"
      },
      "source": [
        "Now, we have a p-value that is less than standard 0.05.\n",
        "We can reject the null hypothesis and state that the means of the two populations are not the same."
      ]
    },
    {
      "cell_type": "markdown",
      "metadata": {
        "id": "s4vcuA6zFdYB"
      },
      "source": [
        "### The End"
      ]
    }
  ]
}