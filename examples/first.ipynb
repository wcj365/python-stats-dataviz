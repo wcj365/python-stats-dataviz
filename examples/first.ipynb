{
  "nbformat": 4,
  "nbformat_minor": 0,
  "metadata": {
    "colab": {
      "provenance": [],
      "authorship_tag": "ABX9TyNr4f3N+t4U2gZlBIYkvzEJ",
      "include_colab_link": true
    },
    "kernelspec": {
      "name": "python3",
      "display_name": "Python 3"
    },
    "language_info": {
      "name": "python"
    }
  },
  "cells": [
    {
      "cell_type": "markdown",
      "metadata": {
        "id": "view-in-github",
        "colab_type": "text"
      },
      "source": [
        "<a href=\"https://colab.research.google.com/github/wcj365/python-stats-dataviz/blob/master/examples/first.ipynb\" target=\"_parent\"><img src=\"https://colab.research.google.com/assets/colab-badge.svg\" alt=\"Open In Colab\"/></a>"
      ]
    },
    {
      "cell_type": "markdown",
      "source": [
        "# Data 690 Project\n",
        "\n",
        "## Session #1\n",
        "\n",
        "- Date: 08/28/2024\n",
        "- Time: 8:00pm\n",
        "- Author: By Jay Wang"
      ],
      "metadata": {
        "id": "6HXkCkHmbhj1"
      }
    },
    {
      "cell_type": "code",
      "execution_count": 2,
      "metadata": {
        "colab": {
          "base_uri": "https://localhost:8080/"
        },
        "id": "U1hRTklaatUg",
        "outputId": "4271277d-1d57-443e-a6df-da255bc2c0eb"
      },
      "outputs": [
        {
          "output_type": "stream",
          "name": "stdout",
          "text": [
            "Hello World!\n",
            "12.4\n"
          ]
        }
      ],
      "source": [
        "print(\"Hello World!\")\n",
        "x = 10\n",
        "y = 12/5\n",
        "z = x + y\n",
        "print(z)"
      ]
    }
  ]
}